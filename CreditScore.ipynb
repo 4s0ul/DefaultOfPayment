{
  "cells": [
    {
      "cell_type": "code",
      "execution_count": 1,
      "metadata": {
        "id": "TgnxaAR0DYNO"
      },
      "outputs": [],
      "source": [
        "import pandas as pd\n",
        "import numpy as np\n",
        "import sklearn"
      ]
    },
    {
      "cell_type": "code",
      "execution_count": 3,
      "metadata": {
        "colab": {
          "base_uri": "https://localhost:8080/",
          "height": 583
        },
        "id": "GW9C2T0o62xM",
        "outputId": "9de9b72f-016c-4c80-be71-0744d8f7a0a0"
      },
      "outputs": [
        {
          "data": {
            "text/html": [
              "\n",
              "  <div id=\"df-4205fb1e-0d16-4a18-a702-eeb3a33526b9\">\n",
              "    <div class=\"colab-df-container\">\n",
              "      <div>\n",
              "<style scoped>\n",
              "    .dataframe tbody tr th:only-of-type {\n",
              "        vertical-align: middle;\n",
              "    }\n",
              "\n",
              "    .dataframe tbody tr th {\n",
              "        vertical-align: top;\n",
              "    }\n",
              "\n",
              "    .dataframe thead th {\n",
              "        text-align: right;\n",
              "    }\n",
              "</style>\n",
              "<table border=\"1\" class=\"dataframe\">\n",
              "  <thead>\n",
              "    <tr style=\"text-align: right;\">\n",
              "      <th></th>\n",
              "      <th>ID</th>\n",
              "      <th>LIMIT_BAL</th>\n",
              "      <th>SEX</th>\n",
              "      <th>EDUCATION</th>\n",
              "      <th>MARRIAGE</th>\n",
              "      <th>AGE</th>\n",
              "      <th>PAY_0</th>\n",
              "      <th>PAY_2</th>\n",
              "      <th>PAY_3</th>\n",
              "      <th>PAY_4</th>\n",
              "      <th>PAY_5</th>\n",
              "      <th>PAY_6</th>\n",
              "      <th>BILL_AMT1</th>\n",
              "      <th>BILL_AMT2</th>\n",
              "      <th>BILL_AMT3</th>\n",
              "      <th>BILL_AMT4</th>\n",
              "      <th>BILL_AMT5</th>\n",
              "      <th>BILL_AMT6</th>\n",
              "      <th>PAY_AMT1</th>\n",
              "      <th>PAY_AMT2</th>\n",
              "      <th>PAY_AMT3</th>\n",
              "      <th>PAY_AMT4</th>\n",
              "      <th>PAY_AMT5</th>\n",
              "      <th>PAY_AMT6</th>\n",
              "      <th>default.payment.next.month</th>\n",
              "    </tr>\n",
              "  </thead>\n",
              "  <tbody>\n",
              "    <tr>\n",
              "      <th>0</th>\n",
              "      <td>1</td>\n",
              "      <td>20000.0</td>\n",
              "      <td>2</td>\n",
              "      <td>2</td>\n",
              "      <td>1</td>\n",
              "      <td>24</td>\n",
              "      <td>2</td>\n",
              "      <td>2</td>\n",
              "      <td>-1</td>\n",
              "      <td>-1</td>\n",
              "      <td>-2</td>\n",
              "      <td>-2</td>\n",
              "      <td>3913.0</td>\n",
              "      <td>3102.0</td>\n",
              "      <td>689.0</td>\n",
              "      <td>0.0</td>\n",
              "      <td>0.0</td>\n",
              "      <td>0.0</td>\n",
              "      <td>0.0</td>\n",
              "      <td>689.0</td>\n",
              "      <td>0.0</td>\n",
              "      <td>0.0</td>\n",
              "      <td>0.0</td>\n",
              "      <td>0.0</td>\n",
              "      <td>1</td>\n",
              "    </tr>\n",
              "    <tr>\n",
              "      <th>1</th>\n",
              "      <td>2</td>\n",
              "      <td>120000.0</td>\n",
              "      <td>2</td>\n",
              "      <td>2</td>\n",
              "      <td>2</td>\n",
              "      <td>26</td>\n",
              "      <td>-1</td>\n",
              "      <td>2</td>\n",
              "      <td>0</td>\n",
              "      <td>0</td>\n",
              "      <td>0</td>\n",
              "      <td>2</td>\n",
              "      <td>2682.0</td>\n",
              "      <td>1725.0</td>\n",
              "      <td>2682.0</td>\n",
              "      <td>3272.0</td>\n",
              "      <td>3455.0</td>\n",
              "      <td>3261.0</td>\n",
              "      <td>0.0</td>\n",
              "      <td>1000.0</td>\n",
              "      <td>1000.0</td>\n",
              "      <td>1000.0</td>\n",
              "      <td>0.0</td>\n",
              "      <td>2000.0</td>\n",
              "      <td>1</td>\n",
              "    </tr>\n",
              "    <tr>\n",
              "      <th>2</th>\n",
              "      <td>3</td>\n",
              "      <td>90000.0</td>\n",
              "      <td>2</td>\n",
              "      <td>2</td>\n",
              "      <td>2</td>\n",
              "      <td>34</td>\n",
              "      <td>0</td>\n",
              "      <td>0</td>\n",
              "      <td>0</td>\n",
              "      <td>0</td>\n",
              "      <td>0</td>\n",
              "      <td>0</td>\n",
              "      <td>29239.0</td>\n",
              "      <td>14027.0</td>\n",
              "      <td>13559.0</td>\n",
              "      <td>14331.0</td>\n",
              "      <td>14948.0</td>\n",
              "      <td>15549.0</td>\n",
              "      <td>1518.0</td>\n",
              "      <td>1500.0</td>\n",
              "      <td>1000.0</td>\n",
              "      <td>1000.0</td>\n",
              "      <td>1000.0</td>\n",
              "      <td>5000.0</td>\n",
              "      <td>0</td>\n",
              "    </tr>\n",
              "    <tr>\n",
              "      <th>3</th>\n",
              "      <td>4</td>\n",
              "      <td>50000.0</td>\n",
              "      <td>2</td>\n",
              "      <td>2</td>\n",
              "      <td>1</td>\n",
              "      <td>37</td>\n",
              "      <td>0</td>\n",
              "      <td>0</td>\n",
              "      <td>0</td>\n",
              "      <td>0</td>\n",
              "      <td>0</td>\n",
              "      <td>0</td>\n",
              "      <td>46990.0</td>\n",
              "      <td>48233.0</td>\n",
              "      <td>49291.0</td>\n",
              "      <td>28314.0</td>\n",
              "      <td>28959.0</td>\n",
              "      <td>29547.0</td>\n",
              "      <td>2000.0</td>\n",
              "      <td>2019.0</td>\n",
              "      <td>1200.0</td>\n",
              "      <td>1100.0</td>\n",
              "      <td>1069.0</td>\n",
              "      <td>1000.0</td>\n",
              "      <td>0</td>\n",
              "    </tr>\n",
              "    <tr>\n",
              "      <th>4</th>\n",
              "      <td>5</td>\n",
              "      <td>50000.0</td>\n",
              "      <td>1</td>\n",
              "      <td>2</td>\n",
              "      <td>1</td>\n",
              "      <td>57</td>\n",
              "      <td>-1</td>\n",
              "      <td>0</td>\n",
              "      <td>-1</td>\n",
              "      <td>0</td>\n",
              "      <td>0</td>\n",
              "      <td>0</td>\n",
              "      <td>8617.0</td>\n",
              "      <td>5670.0</td>\n",
              "      <td>35835.0</td>\n",
              "      <td>20940.0</td>\n",
              "      <td>19146.0</td>\n",
              "      <td>19131.0</td>\n",
              "      <td>2000.0</td>\n",
              "      <td>36681.0</td>\n",
              "      <td>10000.0</td>\n",
              "      <td>9000.0</td>\n",
              "      <td>689.0</td>\n",
              "      <td>679.0</td>\n",
              "      <td>0</td>\n",
              "    </tr>\n",
              "    <tr>\n",
              "      <th>5</th>\n",
              "      <td>6</td>\n",
              "      <td>50000.0</td>\n",
              "      <td>1</td>\n",
              "      <td>1</td>\n",
              "      <td>2</td>\n",
              "      <td>37</td>\n",
              "      <td>0</td>\n",
              "      <td>0</td>\n",
              "      <td>0</td>\n",
              "      <td>0</td>\n",
              "      <td>0</td>\n",
              "      <td>0</td>\n",
              "      <td>64400.0</td>\n",
              "      <td>57069.0</td>\n",
              "      <td>57608.0</td>\n",
              "      <td>19394.0</td>\n",
              "      <td>19619.0</td>\n",
              "      <td>20024.0</td>\n",
              "      <td>2500.0</td>\n",
              "      <td>1815.0</td>\n",
              "      <td>657.0</td>\n",
              "      <td>1000.0</td>\n",
              "      <td>1000.0</td>\n",
              "      <td>800.0</td>\n",
              "      <td>0</td>\n",
              "    </tr>\n",
              "    <tr>\n",
              "      <th>6</th>\n",
              "      <td>7</td>\n",
              "      <td>500000.0</td>\n",
              "      <td>1</td>\n",
              "      <td>1</td>\n",
              "      <td>2</td>\n",
              "      <td>29</td>\n",
              "      <td>0</td>\n",
              "      <td>0</td>\n",
              "      <td>0</td>\n",
              "      <td>0</td>\n",
              "      <td>0</td>\n",
              "      <td>0</td>\n",
              "      <td>367965.0</td>\n",
              "      <td>412023.0</td>\n",
              "      <td>445007.0</td>\n",
              "      <td>542653.0</td>\n",
              "      <td>483003.0</td>\n",
              "      <td>473944.0</td>\n",
              "      <td>55000.0</td>\n",
              "      <td>40000.0</td>\n",
              "      <td>38000.0</td>\n",
              "      <td>20239.0</td>\n",
              "      <td>13750.0</td>\n",
              "      <td>13770.0</td>\n",
              "      <td>0</td>\n",
              "    </tr>\n",
              "    <tr>\n",
              "      <th>7</th>\n",
              "      <td>8</td>\n",
              "      <td>100000.0</td>\n",
              "      <td>2</td>\n",
              "      <td>2</td>\n",
              "      <td>2</td>\n",
              "      <td>23</td>\n",
              "      <td>0</td>\n",
              "      <td>-1</td>\n",
              "      <td>-1</td>\n",
              "      <td>0</td>\n",
              "      <td>0</td>\n",
              "      <td>-1</td>\n",
              "      <td>11876.0</td>\n",
              "      <td>380.0</td>\n",
              "      <td>601.0</td>\n",
              "      <td>221.0</td>\n",
              "      <td>-159.0</td>\n",
              "      <td>567.0</td>\n",
              "      <td>380.0</td>\n",
              "      <td>601.0</td>\n",
              "      <td>0.0</td>\n",
              "      <td>581.0</td>\n",
              "      <td>1687.0</td>\n",
              "      <td>1542.0</td>\n",
              "      <td>0</td>\n",
              "    </tr>\n",
              "    <tr>\n",
              "      <th>8</th>\n",
              "      <td>9</td>\n",
              "      <td>140000.0</td>\n",
              "      <td>2</td>\n",
              "      <td>3</td>\n",
              "      <td>1</td>\n",
              "      <td>28</td>\n",
              "      <td>0</td>\n",
              "      <td>0</td>\n",
              "      <td>2</td>\n",
              "      <td>0</td>\n",
              "      <td>0</td>\n",
              "      <td>0</td>\n",
              "      <td>11285.0</td>\n",
              "      <td>14096.0</td>\n",
              "      <td>12108.0</td>\n",
              "      <td>12211.0</td>\n",
              "      <td>11793.0</td>\n",
              "      <td>3719.0</td>\n",
              "      <td>3329.0</td>\n",
              "      <td>0.0</td>\n",
              "      <td>432.0</td>\n",
              "      <td>1000.0</td>\n",
              "      <td>1000.0</td>\n",
              "      <td>1000.0</td>\n",
              "      <td>0</td>\n",
              "    </tr>\n",
              "    <tr>\n",
              "      <th>9</th>\n",
              "      <td>10</td>\n",
              "      <td>20000.0</td>\n",
              "      <td>1</td>\n",
              "      <td>3</td>\n",
              "      <td>2</td>\n",
              "      <td>35</td>\n",
              "      <td>-2</td>\n",
              "      <td>-2</td>\n",
              "      <td>-2</td>\n",
              "      <td>-2</td>\n",
              "      <td>-1</td>\n",
              "      <td>-1</td>\n",
              "      <td>0.0</td>\n",
              "      <td>0.0</td>\n",
              "      <td>0.0</td>\n",
              "      <td>0.0</td>\n",
              "      <td>13007.0</td>\n",
              "      <td>13912.0</td>\n",
              "      <td>0.0</td>\n",
              "      <td>0.0</td>\n",
              "      <td>0.0</td>\n",
              "      <td>13007.0</td>\n",
              "      <td>1122.0</td>\n",
              "      <td>0.0</td>\n",
              "      <td>0</td>\n",
              "    </tr>\n",
              "    <tr>\n",
              "      <th>10</th>\n",
              "      <td>11</td>\n",
              "      <td>200000.0</td>\n",
              "      <td>2</td>\n",
              "      <td>3</td>\n",
              "      <td>2</td>\n",
              "      <td>34</td>\n",
              "      <td>0</td>\n",
              "      <td>0</td>\n",
              "      <td>2</td>\n",
              "      <td>0</td>\n",
              "      <td>0</td>\n",
              "      <td>-1</td>\n",
              "      <td>11073.0</td>\n",
              "      <td>9787.0</td>\n",
              "      <td>5535.0</td>\n",
              "      <td>2513.0</td>\n",
              "      <td>1828.0</td>\n",
              "      <td>3731.0</td>\n",
              "      <td>2306.0</td>\n",
              "      <td>12.0</td>\n",
              "      <td>50.0</td>\n",
              "      <td>300.0</td>\n",
              "      <td>3738.0</td>\n",
              "      <td>66.0</td>\n",
              "      <td>0</td>\n",
              "    </tr>\n",
              "    <tr>\n",
              "      <th>11</th>\n",
              "      <td>12</td>\n",
              "      <td>260000.0</td>\n",
              "      <td>2</td>\n",
              "      <td>1</td>\n",
              "      <td>2</td>\n",
              "      <td>51</td>\n",
              "      <td>-1</td>\n",
              "      <td>-1</td>\n",
              "      <td>-1</td>\n",
              "      <td>-1</td>\n",
              "      <td>-1</td>\n",
              "      <td>2</td>\n",
              "      <td>12261.0</td>\n",
              "      <td>21670.0</td>\n",
              "      <td>9966.0</td>\n",
              "      <td>8517.0</td>\n",
              "      <td>22287.0</td>\n",
              "      <td>13668.0</td>\n",
              "      <td>21818.0</td>\n",
              "      <td>9966.0</td>\n",
              "      <td>8583.0</td>\n",
              "      <td>22301.0</td>\n",
              "      <td>0.0</td>\n",
              "      <td>3640.0</td>\n",
              "      <td>0</td>\n",
              "    </tr>\n",
              "    <tr>\n",
              "      <th>12</th>\n",
              "      <td>13</td>\n",
              "      <td>630000.0</td>\n",
              "      <td>2</td>\n",
              "      <td>2</td>\n",
              "      <td>2</td>\n",
              "      <td>41</td>\n",
              "      <td>-1</td>\n",
              "      <td>0</td>\n",
              "      <td>-1</td>\n",
              "      <td>-1</td>\n",
              "      <td>-1</td>\n",
              "      <td>-1</td>\n",
              "      <td>12137.0</td>\n",
              "      <td>6500.0</td>\n",
              "      <td>6500.0</td>\n",
              "      <td>6500.0</td>\n",
              "      <td>6500.0</td>\n",
              "      <td>2870.0</td>\n",
              "      <td>1000.0</td>\n",
              "      <td>6500.0</td>\n",
              "      <td>6500.0</td>\n",
              "      <td>6500.0</td>\n",
              "      <td>2870.0</td>\n",
              "      <td>0.0</td>\n",
              "      <td>0</td>\n",
              "    </tr>\n",
              "    <tr>\n",
              "      <th>13</th>\n",
              "      <td>14</td>\n",
              "      <td>70000.0</td>\n",
              "      <td>1</td>\n",
              "      <td>2</td>\n",
              "      <td>2</td>\n",
              "      <td>30</td>\n",
              "      <td>1</td>\n",
              "      <td>2</td>\n",
              "      <td>2</td>\n",
              "      <td>0</td>\n",
              "      <td>0</td>\n",
              "      <td>2</td>\n",
              "      <td>65802.0</td>\n",
              "      <td>67369.0</td>\n",
              "      <td>65701.0</td>\n",
              "      <td>66782.0</td>\n",
              "      <td>36137.0</td>\n",
              "      <td>36894.0</td>\n",
              "      <td>3200.0</td>\n",
              "      <td>0.0</td>\n",
              "      <td>3000.0</td>\n",
              "      <td>3000.0</td>\n",
              "      <td>1500.0</td>\n",
              "      <td>0.0</td>\n",
              "      <td>1</td>\n",
              "    </tr>\n",
              "    <tr>\n",
              "      <th>14</th>\n",
              "      <td>15</td>\n",
              "      <td>250000.0</td>\n",
              "      <td>1</td>\n",
              "      <td>1</td>\n",
              "      <td>2</td>\n",
              "      <td>29</td>\n",
              "      <td>0</td>\n",
              "      <td>0</td>\n",
              "      <td>0</td>\n",
              "      <td>0</td>\n",
              "      <td>0</td>\n",
              "      <td>0</td>\n",
              "      <td>70887.0</td>\n",
              "      <td>67060.0</td>\n",
              "      <td>63561.0</td>\n",
              "      <td>59696.0</td>\n",
              "      <td>56875.0</td>\n",
              "      <td>55512.0</td>\n",
              "      <td>3000.0</td>\n",
              "      <td>3000.0</td>\n",
              "      <td>3000.0</td>\n",
              "      <td>3000.0</td>\n",
              "      <td>3000.0</td>\n",
              "      <td>3000.0</td>\n",
              "      <td>0</td>\n",
              "    </tr>\n",
              "  </tbody>\n",
              "</table>\n",
              "</div>\n",
              "      <button class=\"colab-df-convert\" onclick=\"convertToInteractive('df-4205fb1e-0d16-4a18-a702-eeb3a33526b9')\"\n",
              "              title=\"Convert this dataframe to an interactive table.\"\n",
              "              style=\"display:none;\">\n",
              "        \n",
              "  <svg xmlns=\"http://www.w3.org/2000/svg\" height=\"24px\"viewBox=\"0 0 24 24\"\n",
              "       width=\"24px\">\n",
              "    <path d=\"M0 0h24v24H0V0z\" fill=\"none\"/>\n",
              "    <path d=\"M18.56 5.44l.94 2.06.94-2.06 2.06-.94-2.06-.94-.94-2.06-.94 2.06-2.06.94zm-11 1L8.5 8.5l.94-2.06 2.06-.94-2.06-.94L8.5 2.5l-.94 2.06-2.06.94zm10 10l.94 2.06.94-2.06 2.06-.94-2.06-.94-.94-2.06-.94 2.06-2.06.94z\"/><path d=\"M17.41 7.96l-1.37-1.37c-.4-.4-.92-.59-1.43-.59-.52 0-1.04.2-1.43.59L10.3 9.45l-7.72 7.72c-.78.78-.78 2.05 0 2.83L4 21.41c.39.39.9.59 1.41.59.51 0 1.02-.2 1.41-.59l7.78-7.78 2.81-2.81c.8-.78.8-2.07 0-2.86zM5.41 20L4 18.59l7.72-7.72 1.47 1.35L5.41 20z\"/>\n",
              "  </svg>\n",
              "      </button>\n",
              "      \n",
              "  <style>\n",
              "    .colab-df-container {\n",
              "      display:flex;\n",
              "      flex-wrap:wrap;\n",
              "      gap: 12px;\n",
              "    }\n",
              "\n",
              "    .colab-df-convert {\n",
              "      background-color: #E8F0FE;\n",
              "      border: none;\n",
              "      border-radius: 50%;\n",
              "      cursor: pointer;\n",
              "      display: none;\n",
              "      fill: #1967D2;\n",
              "      height: 32px;\n",
              "      padding: 0 0 0 0;\n",
              "      width: 32px;\n",
              "    }\n",
              "\n",
              "    .colab-df-convert:hover {\n",
              "      background-color: #E2EBFA;\n",
              "      box-shadow: 0px 1px 2px rgba(60, 64, 67, 0.3), 0px 1px 3px 1px rgba(60, 64, 67, 0.15);\n",
              "      fill: #174EA6;\n",
              "    }\n",
              "\n",
              "    [theme=dark] .colab-df-convert {\n",
              "      background-color: #3B4455;\n",
              "      fill: #D2E3FC;\n",
              "    }\n",
              "\n",
              "    [theme=dark] .colab-df-convert:hover {\n",
              "      background-color: #434B5C;\n",
              "      box-shadow: 0px 1px 3px 1px rgba(0, 0, 0, 0.15);\n",
              "      filter: drop-shadow(0px 1px 2px rgba(0, 0, 0, 0.3));\n",
              "      fill: #FFFFFF;\n",
              "    }\n",
              "  </style>\n",
              "\n",
              "      <script>\n",
              "        const buttonEl =\n",
              "          document.querySelector('#df-4205fb1e-0d16-4a18-a702-eeb3a33526b9 button.colab-df-convert');\n",
              "        buttonEl.style.display =\n",
              "          google.colab.kernel.accessAllowed ? 'block' : 'none';\n",
              "\n",
              "        async function convertToInteractive(key) {\n",
              "          const element = document.querySelector('#df-4205fb1e-0d16-4a18-a702-eeb3a33526b9');\n",
              "          const dataTable =\n",
              "            await google.colab.kernel.invokeFunction('convertToInteractive',\n",
              "                                                     [key], {});\n",
              "          if (!dataTable) return;\n",
              "\n",
              "          const docLinkHtml = 'Like what you see? Visit the ' +\n",
              "            '<a target=\"_blank\" href=https://colab.research.google.com/notebooks/data_table.ipynb>data table notebook</a>'\n",
              "            + ' to learn more about interactive tables.';\n",
              "          element.innerHTML = '';\n",
              "          dataTable['output_type'] = 'display_data';\n",
              "          await google.colab.output.renderOutput(dataTable, element);\n",
              "          const docLink = document.createElement('div');\n",
              "          docLink.innerHTML = docLinkHtml;\n",
              "          element.appendChild(docLink);\n",
              "        }\n",
              "      </script>\n",
              "    </div>\n",
              "  </div>\n",
              "  "
            ],
            "text/plain": [
              "    ID  LIMIT_BAL  SEX  EDUCATION  MARRIAGE  AGE  PAY_0  PAY_2  PAY_3  PAY_4  \\\n",
              "0    1    20000.0    2          2         1   24      2      2     -1     -1   \n",
              "1    2   120000.0    2          2         2   26     -1      2      0      0   \n",
              "2    3    90000.0    2          2         2   34      0      0      0      0   \n",
              "3    4    50000.0    2          2         1   37      0      0      0      0   \n",
              "4    5    50000.0    1          2         1   57     -1      0     -1      0   \n",
              "5    6    50000.0    1          1         2   37      0      0      0      0   \n",
              "6    7   500000.0    1          1         2   29      0      0      0      0   \n",
              "7    8   100000.0    2          2         2   23      0     -1     -1      0   \n",
              "8    9   140000.0    2          3         1   28      0      0      2      0   \n",
              "9   10    20000.0    1          3         2   35     -2     -2     -2     -2   \n",
              "10  11   200000.0    2          3         2   34      0      0      2      0   \n",
              "11  12   260000.0    2          1         2   51     -1     -1     -1     -1   \n",
              "12  13   630000.0    2          2         2   41     -1      0     -1     -1   \n",
              "13  14    70000.0    1          2         2   30      1      2      2      0   \n",
              "14  15   250000.0    1          1         2   29      0      0      0      0   \n",
              "\n",
              "    PAY_5  PAY_6  BILL_AMT1  BILL_AMT2  BILL_AMT3  BILL_AMT4  BILL_AMT5  \\\n",
              "0      -2     -2     3913.0     3102.0      689.0        0.0        0.0   \n",
              "1       0      2     2682.0     1725.0     2682.0     3272.0     3455.0   \n",
              "2       0      0    29239.0    14027.0    13559.0    14331.0    14948.0   \n",
              "3       0      0    46990.0    48233.0    49291.0    28314.0    28959.0   \n",
              "4       0      0     8617.0     5670.0    35835.0    20940.0    19146.0   \n",
              "5       0      0    64400.0    57069.0    57608.0    19394.0    19619.0   \n",
              "6       0      0   367965.0   412023.0   445007.0   542653.0   483003.0   \n",
              "7       0     -1    11876.0      380.0      601.0      221.0     -159.0   \n",
              "8       0      0    11285.0    14096.0    12108.0    12211.0    11793.0   \n",
              "9      -1     -1        0.0        0.0        0.0        0.0    13007.0   \n",
              "10      0     -1    11073.0     9787.0     5535.0     2513.0     1828.0   \n",
              "11     -1      2    12261.0    21670.0     9966.0     8517.0    22287.0   \n",
              "12     -1     -1    12137.0     6500.0     6500.0     6500.0     6500.0   \n",
              "13      0      2    65802.0    67369.0    65701.0    66782.0    36137.0   \n",
              "14      0      0    70887.0    67060.0    63561.0    59696.0    56875.0   \n",
              "\n",
              "    BILL_AMT6  PAY_AMT1  PAY_AMT2  PAY_AMT3  PAY_AMT4  PAY_AMT5  PAY_AMT6  \\\n",
              "0         0.0       0.0     689.0       0.0       0.0       0.0       0.0   \n",
              "1      3261.0       0.0    1000.0    1000.0    1000.0       0.0    2000.0   \n",
              "2     15549.0    1518.0    1500.0    1000.0    1000.0    1000.0    5000.0   \n",
              "3     29547.0    2000.0    2019.0    1200.0    1100.0    1069.0    1000.0   \n",
              "4     19131.0    2000.0   36681.0   10000.0    9000.0     689.0     679.0   \n",
              "5     20024.0    2500.0    1815.0     657.0    1000.0    1000.0     800.0   \n",
              "6    473944.0   55000.0   40000.0   38000.0   20239.0   13750.0   13770.0   \n",
              "7       567.0     380.0     601.0       0.0     581.0    1687.0    1542.0   \n",
              "8      3719.0    3329.0       0.0     432.0    1000.0    1000.0    1000.0   \n",
              "9     13912.0       0.0       0.0       0.0   13007.0    1122.0       0.0   \n",
              "10     3731.0    2306.0      12.0      50.0     300.0    3738.0      66.0   \n",
              "11    13668.0   21818.0    9966.0    8583.0   22301.0       0.0    3640.0   \n",
              "12     2870.0    1000.0    6500.0    6500.0    6500.0    2870.0       0.0   \n",
              "13    36894.0    3200.0       0.0    3000.0    3000.0    1500.0       0.0   \n",
              "14    55512.0    3000.0    3000.0    3000.0    3000.0    3000.0    3000.0   \n",
              "\n",
              "    default.payment.next.month  \n",
              "0                            1  \n",
              "1                            1  \n",
              "2                            0  \n",
              "3                            0  \n",
              "4                            0  \n",
              "5                            0  \n",
              "6                            0  \n",
              "7                            0  \n",
              "8                            0  \n",
              "9                            0  \n",
              "10                           0  \n",
              "11                           0  \n",
              "12                           0  \n",
              "13                           1  \n",
              "14                           0  "
            ]
          },
          "execution_count": 3,
          "metadata": {},
          "output_type": "execute_result"
        }
      ],
      "source": [
        "df = pd.read_csv('/content/UCI_Credit_Card.csv')\n",
        "pd.options.display.max_columns = 25\n",
        "df.head(15)"
      ]
    },
    {
      "attachments": {},
      "cell_type": "markdown",
      "metadata": {
        "id": "V8dmCqv__Y7y"
      },
      "source": [
        "#Data description"
      ]
    },
    {
      "cell_type": "code",
      "execution_count": 4,
      "metadata": {
        "colab": {
          "base_uri": "https://localhost:8080/"
        },
        "id": "lmV9kSDAPI9D",
        "outputId": "e6a9aae7-d280-46da-cd8a-b9c8ea54edf4"
      },
      "outputs": [
        {
          "data": {
            "text/plain": [
              "ID                            0\n",
              "LIMIT_BAL                     0\n",
              "SEX                           0\n",
              "EDUCATION                     0\n",
              "MARRIAGE                      0\n",
              "AGE                           0\n",
              "PAY_0                         0\n",
              "PAY_2                         0\n",
              "PAY_3                         0\n",
              "PAY_4                         0\n",
              "PAY_5                         0\n",
              "PAY_6                         0\n",
              "BILL_AMT1                     0\n",
              "BILL_AMT2                     0\n",
              "BILL_AMT3                     0\n",
              "BILL_AMT4                     0\n",
              "BILL_AMT5                     0\n",
              "BILL_AMT6                     0\n",
              "PAY_AMT1                      0\n",
              "PAY_AMT2                      0\n",
              "PAY_AMT3                      0\n",
              "PAY_AMT4                      0\n",
              "PAY_AMT5                      0\n",
              "PAY_AMT6                      0\n",
              "default.payment.next.month    0\n",
              "dtype: int64"
            ]
          },
          "execution_count": 4,
          "metadata": {},
          "output_type": "execute_result"
        }
      ],
      "source": [
        "df.isna().sum()"
      ]
    },
    {
      "cell_type": "code",
      "execution_count": 5,
      "metadata": {
        "colab": {
          "base_uri": "https://localhost:8080/"
        },
        "id": "O6FbaYh77KV5",
        "outputId": "1b1fc5cb-f2a4-4dda-a23e-9e6e4ded6f80"
      },
      "outputs": [
        {
          "name": "stdout",
          "output_type": "stream",
          "text": [
            "<class 'pandas.core.frame.DataFrame'>\n",
            "RangeIndex: 30000 entries, 0 to 29999\n",
            "Data columns (total 25 columns):\n",
            " #   Column                      Non-Null Count  Dtype  \n",
            "---  ------                      --------------  -----  \n",
            " 0   ID                          30000 non-null  int64  \n",
            " 1   LIMIT_BAL                   30000 non-null  float64\n",
            " 2   SEX                         30000 non-null  int64  \n",
            " 3   EDUCATION                   30000 non-null  int64  \n",
            " 4   MARRIAGE                    30000 non-null  int64  \n",
            " 5   AGE                         30000 non-null  int64  \n",
            " 6   PAY_0                       30000 non-null  int64  \n",
            " 7   PAY_2                       30000 non-null  int64  \n",
            " 8   PAY_3                       30000 non-null  int64  \n",
            " 9   PAY_4                       30000 non-null  int64  \n",
            " 10  PAY_5                       30000 non-null  int64  \n",
            " 11  PAY_6                       30000 non-null  int64  \n",
            " 12  BILL_AMT1                   30000 non-null  float64\n",
            " 13  BILL_AMT2                   30000 non-null  float64\n",
            " 14  BILL_AMT3                   30000 non-null  float64\n",
            " 15  BILL_AMT4                   30000 non-null  float64\n",
            " 16  BILL_AMT5                   30000 non-null  float64\n",
            " 17  BILL_AMT6                   30000 non-null  float64\n",
            " 18  PAY_AMT1                    30000 non-null  float64\n",
            " 19  PAY_AMT2                    30000 non-null  float64\n",
            " 20  PAY_AMT3                    30000 non-null  float64\n",
            " 21  PAY_AMT4                    30000 non-null  float64\n",
            " 22  PAY_AMT5                    30000 non-null  float64\n",
            " 23  PAY_AMT6                    30000 non-null  float64\n",
            " 24  default.payment.next.month  30000 non-null  int64  \n",
            "dtypes: float64(13), int64(12)\n",
            "memory usage: 5.7 MB\n"
          ]
        }
      ],
      "source": [
        "df.info()"
      ]
    },
    {
      "cell_type": "code",
      "execution_count": 6,
      "metadata": {
        "colab": {
          "base_uri": "https://localhost:8080/",
          "height": 364
        },
        "id": "nWPO808w7ahr",
        "outputId": "96ac7eb5-6360-4cd7-94b4-85590bd77e05"
      },
      "outputs": [
        {
          "data": {
            "text/html": [
              "\n",
              "  <div id=\"df-4e02a1b4-3f27-4c30-9732-e9def303be04\">\n",
              "    <div class=\"colab-df-container\">\n",
              "      <div>\n",
              "<style scoped>\n",
              "    .dataframe tbody tr th:only-of-type {\n",
              "        vertical-align: middle;\n",
              "    }\n",
              "\n",
              "    .dataframe tbody tr th {\n",
              "        vertical-align: top;\n",
              "    }\n",
              "\n",
              "    .dataframe thead th {\n",
              "        text-align: right;\n",
              "    }\n",
              "</style>\n",
              "<table border=\"1\" class=\"dataframe\">\n",
              "  <thead>\n",
              "    <tr style=\"text-align: right;\">\n",
              "      <th></th>\n",
              "      <th>ID</th>\n",
              "      <th>LIMIT_BAL</th>\n",
              "      <th>SEX</th>\n",
              "      <th>EDUCATION</th>\n",
              "      <th>MARRIAGE</th>\n",
              "      <th>AGE</th>\n",
              "      <th>PAY_0</th>\n",
              "      <th>PAY_2</th>\n",
              "      <th>PAY_3</th>\n",
              "      <th>PAY_4</th>\n",
              "      <th>PAY_5</th>\n",
              "      <th>PAY_6</th>\n",
              "      <th>BILL_AMT1</th>\n",
              "      <th>BILL_AMT2</th>\n",
              "      <th>BILL_AMT3</th>\n",
              "      <th>BILL_AMT4</th>\n",
              "      <th>BILL_AMT5</th>\n",
              "      <th>BILL_AMT6</th>\n",
              "      <th>PAY_AMT1</th>\n",
              "      <th>PAY_AMT2</th>\n",
              "      <th>PAY_AMT3</th>\n",
              "      <th>PAY_AMT4</th>\n",
              "      <th>PAY_AMT5</th>\n",
              "      <th>PAY_AMT6</th>\n",
              "      <th>default.payment.next.month</th>\n",
              "    </tr>\n",
              "  </thead>\n",
              "  <tbody>\n",
              "    <tr>\n",
              "      <th>count</th>\n",
              "      <td>30000.000000</td>\n",
              "      <td>30000.000000</td>\n",
              "      <td>30000.000000</td>\n",
              "      <td>30000.000000</td>\n",
              "      <td>30000.000000</td>\n",
              "      <td>30000.000000</td>\n",
              "      <td>30000.000000</td>\n",
              "      <td>30000.000000</td>\n",
              "      <td>30000.000000</td>\n",
              "      <td>30000.000000</td>\n",
              "      <td>30000.000000</td>\n",
              "      <td>30000.000000</td>\n",
              "      <td>30000.000000</td>\n",
              "      <td>30000.000000</td>\n",
              "      <td>3.000000e+04</td>\n",
              "      <td>30000.000000</td>\n",
              "      <td>30000.000000</td>\n",
              "      <td>30000.000000</td>\n",
              "      <td>30000.000000</td>\n",
              "      <td>3.000000e+04</td>\n",
              "      <td>30000.00000</td>\n",
              "      <td>30000.000000</td>\n",
              "      <td>30000.000000</td>\n",
              "      <td>30000.000000</td>\n",
              "      <td>30000.000000</td>\n",
              "    </tr>\n",
              "    <tr>\n",
              "      <th>mean</th>\n",
              "      <td>15000.500000</td>\n",
              "      <td>167484.322667</td>\n",
              "      <td>1.603733</td>\n",
              "      <td>1.853133</td>\n",
              "      <td>1.551867</td>\n",
              "      <td>35.485500</td>\n",
              "      <td>-0.016700</td>\n",
              "      <td>-0.133767</td>\n",
              "      <td>-0.166200</td>\n",
              "      <td>-0.220667</td>\n",
              "      <td>-0.266200</td>\n",
              "      <td>-0.291100</td>\n",
              "      <td>51223.330900</td>\n",
              "      <td>49179.075167</td>\n",
              "      <td>4.701315e+04</td>\n",
              "      <td>43262.948967</td>\n",
              "      <td>40311.400967</td>\n",
              "      <td>38871.760400</td>\n",
              "      <td>5663.580500</td>\n",
              "      <td>5.921163e+03</td>\n",
              "      <td>5225.68150</td>\n",
              "      <td>4826.076867</td>\n",
              "      <td>4799.387633</td>\n",
              "      <td>5215.502567</td>\n",
              "      <td>0.221200</td>\n",
              "    </tr>\n",
              "    <tr>\n",
              "      <th>std</th>\n",
              "      <td>8660.398374</td>\n",
              "      <td>129747.661567</td>\n",
              "      <td>0.489129</td>\n",
              "      <td>0.790349</td>\n",
              "      <td>0.521970</td>\n",
              "      <td>9.217904</td>\n",
              "      <td>1.123802</td>\n",
              "      <td>1.197186</td>\n",
              "      <td>1.196868</td>\n",
              "      <td>1.169139</td>\n",
              "      <td>1.133187</td>\n",
              "      <td>1.149988</td>\n",
              "      <td>73635.860576</td>\n",
              "      <td>71173.768783</td>\n",
              "      <td>6.934939e+04</td>\n",
              "      <td>64332.856134</td>\n",
              "      <td>60797.155770</td>\n",
              "      <td>59554.107537</td>\n",
              "      <td>16563.280354</td>\n",
              "      <td>2.304087e+04</td>\n",
              "      <td>17606.96147</td>\n",
              "      <td>15666.159744</td>\n",
              "      <td>15278.305679</td>\n",
              "      <td>17777.465775</td>\n",
              "      <td>0.415062</td>\n",
              "    </tr>\n",
              "    <tr>\n",
              "      <th>min</th>\n",
              "      <td>1.000000</td>\n",
              "      <td>10000.000000</td>\n",
              "      <td>1.000000</td>\n",
              "      <td>0.000000</td>\n",
              "      <td>0.000000</td>\n",
              "      <td>21.000000</td>\n",
              "      <td>-2.000000</td>\n",
              "      <td>-2.000000</td>\n",
              "      <td>-2.000000</td>\n",
              "      <td>-2.000000</td>\n",
              "      <td>-2.000000</td>\n",
              "      <td>-2.000000</td>\n",
              "      <td>-165580.000000</td>\n",
              "      <td>-69777.000000</td>\n",
              "      <td>-1.572640e+05</td>\n",
              "      <td>-170000.000000</td>\n",
              "      <td>-81334.000000</td>\n",
              "      <td>-339603.000000</td>\n",
              "      <td>0.000000</td>\n",
              "      <td>0.000000e+00</td>\n",
              "      <td>0.00000</td>\n",
              "      <td>0.000000</td>\n",
              "      <td>0.000000</td>\n",
              "      <td>0.000000</td>\n",
              "      <td>0.000000</td>\n",
              "    </tr>\n",
              "    <tr>\n",
              "      <th>25%</th>\n",
              "      <td>7500.750000</td>\n",
              "      <td>50000.000000</td>\n",
              "      <td>1.000000</td>\n",
              "      <td>1.000000</td>\n",
              "      <td>1.000000</td>\n",
              "      <td>28.000000</td>\n",
              "      <td>-1.000000</td>\n",
              "      <td>-1.000000</td>\n",
              "      <td>-1.000000</td>\n",
              "      <td>-1.000000</td>\n",
              "      <td>-1.000000</td>\n",
              "      <td>-1.000000</td>\n",
              "      <td>3558.750000</td>\n",
              "      <td>2984.750000</td>\n",
              "      <td>2.666250e+03</td>\n",
              "      <td>2326.750000</td>\n",
              "      <td>1763.000000</td>\n",
              "      <td>1256.000000</td>\n",
              "      <td>1000.000000</td>\n",
              "      <td>8.330000e+02</td>\n",
              "      <td>390.00000</td>\n",
              "      <td>296.000000</td>\n",
              "      <td>252.500000</td>\n",
              "      <td>117.750000</td>\n",
              "      <td>0.000000</td>\n",
              "    </tr>\n",
              "    <tr>\n",
              "      <th>50%</th>\n",
              "      <td>15000.500000</td>\n",
              "      <td>140000.000000</td>\n",
              "      <td>2.000000</td>\n",
              "      <td>2.000000</td>\n",
              "      <td>2.000000</td>\n",
              "      <td>34.000000</td>\n",
              "      <td>0.000000</td>\n",
              "      <td>0.000000</td>\n",
              "      <td>0.000000</td>\n",
              "      <td>0.000000</td>\n",
              "      <td>0.000000</td>\n",
              "      <td>0.000000</td>\n",
              "      <td>22381.500000</td>\n",
              "      <td>21200.000000</td>\n",
              "      <td>2.008850e+04</td>\n",
              "      <td>19052.000000</td>\n",
              "      <td>18104.500000</td>\n",
              "      <td>17071.000000</td>\n",
              "      <td>2100.000000</td>\n",
              "      <td>2.009000e+03</td>\n",
              "      <td>1800.00000</td>\n",
              "      <td>1500.000000</td>\n",
              "      <td>1500.000000</td>\n",
              "      <td>1500.000000</td>\n",
              "      <td>0.000000</td>\n",
              "    </tr>\n",
              "    <tr>\n",
              "      <th>75%</th>\n",
              "      <td>22500.250000</td>\n",
              "      <td>240000.000000</td>\n",
              "      <td>2.000000</td>\n",
              "      <td>2.000000</td>\n",
              "      <td>2.000000</td>\n",
              "      <td>41.000000</td>\n",
              "      <td>0.000000</td>\n",
              "      <td>0.000000</td>\n",
              "      <td>0.000000</td>\n",
              "      <td>0.000000</td>\n",
              "      <td>0.000000</td>\n",
              "      <td>0.000000</td>\n",
              "      <td>67091.000000</td>\n",
              "      <td>64006.250000</td>\n",
              "      <td>6.016475e+04</td>\n",
              "      <td>54506.000000</td>\n",
              "      <td>50190.500000</td>\n",
              "      <td>49198.250000</td>\n",
              "      <td>5006.000000</td>\n",
              "      <td>5.000000e+03</td>\n",
              "      <td>4505.00000</td>\n",
              "      <td>4013.250000</td>\n",
              "      <td>4031.500000</td>\n",
              "      <td>4000.000000</td>\n",
              "      <td>0.000000</td>\n",
              "    </tr>\n",
              "    <tr>\n",
              "      <th>max</th>\n",
              "      <td>30000.000000</td>\n",
              "      <td>1000000.000000</td>\n",
              "      <td>2.000000</td>\n",
              "      <td>6.000000</td>\n",
              "      <td>3.000000</td>\n",
              "      <td>79.000000</td>\n",
              "      <td>8.000000</td>\n",
              "      <td>8.000000</td>\n",
              "      <td>8.000000</td>\n",
              "      <td>8.000000</td>\n",
              "      <td>8.000000</td>\n",
              "      <td>8.000000</td>\n",
              "      <td>964511.000000</td>\n",
              "      <td>983931.000000</td>\n",
              "      <td>1.664089e+06</td>\n",
              "      <td>891586.000000</td>\n",
              "      <td>927171.000000</td>\n",
              "      <td>961664.000000</td>\n",
              "      <td>873552.000000</td>\n",
              "      <td>1.684259e+06</td>\n",
              "      <td>896040.00000</td>\n",
              "      <td>621000.000000</td>\n",
              "      <td>426529.000000</td>\n",
              "      <td>528666.000000</td>\n",
              "      <td>1.000000</td>\n",
              "    </tr>\n",
              "  </tbody>\n",
              "</table>\n",
              "</div>\n",
              "      <button class=\"colab-df-convert\" onclick=\"convertToInteractive('df-4e02a1b4-3f27-4c30-9732-e9def303be04')\"\n",
              "              title=\"Convert this dataframe to an interactive table.\"\n",
              "              style=\"display:none;\">\n",
              "        \n",
              "  <svg xmlns=\"http://www.w3.org/2000/svg\" height=\"24px\"viewBox=\"0 0 24 24\"\n",
              "       width=\"24px\">\n",
              "    <path d=\"M0 0h24v24H0V0z\" fill=\"none\"/>\n",
              "    <path d=\"M18.56 5.44l.94 2.06.94-2.06 2.06-.94-2.06-.94-.94-2.06-.94 2.06-2.06.94zm-11 1L8.5 8.5l.94-2.06 2.06-.94-2.06-.94L8.5 2.5l-.94 2.06-2.06.94zm10 10l.94 2.06.94-2.06 2.06-.94-2.06-.94-.94-2.06-.94 2.06-2.06.94z\"/><path d=\"M17.41 7.96l-1.37-1.37c-.4-.4-.92-.59-1.43-.59-.52 0-1.04.2-1.43.59L10.3 9.45l-7.72 7.72c-.78.78-.78 2.05 0 2.83L4 21.41c.39.39.9.59 1.41.59.51 0 1.02-.2 1.41-.59l7.78-7.78 2.81-2.81c.8-.78.8-2.07 0-2.86zM5.41 20L4 18.59l7.72-7.72 1.47 1.35L5.41 20z\"/>\n",
              "  </svg>\n",
              "      </button>\n",
              "      \n",
              "  <style>\n",
              "    .colab-df-container {\n",
              "      display:flex;\n",
              "      flex-wrap:wrap;\n",
              "      gap: 12px;\n",
              "    }\n",
              "\n",
              "    .colab-df-convert {\n",
              "      background-color: #E8F0FE;\n",
              "      border: none;\n",
              "      border-radius: 50%;\n",
              "      cursor: pointer;\n",
              "      display: none;\n",
              "      fill: #1967D2;\n",
              "      height: 32px;\n",
              "      padding: 0 0 0 0;\n",
              "      width: 32px;\n",
              "    }\n",
              "\n",
              "    .colab-df-convert:hover {\n",
              "      background-color: #E2EBFA;\n",
              "      box-shadow: 0px 1px 2px rgba(60, 64, 67, 0.3), 0px 1px 3px 1px rgba(60, 64, 67, 0.15);\n",
              "      fill: #174EA6;\n",
              "    }\n",
              "\n",
              "    [theme=dark] .colab-df-convert {\n",
              "      background-color: #3B4455;\n",
              "      fill: #D2E3FC;\n",
              "    }\n",
              "\n",
              "    [theme=dark] .colab-df-convert:hover {\n",
              "      background-color: #434B5C;\n",
              "      box-shadow: 0px 1px 3px 1px rgba(0, 0, 0, 0.15);\n",
              "      filter: drop-shadow(0px 1px 2px rgba(0, 0, 0, 0.3));\n",
              "      fill: #FFFFFF;\n",
              "    }\n",
              "  </style>\n",
              "\n",
              "      <script>\n",
              "        const buttonEl =\n",
              "          document.querySelector('#df-4e02a1b4-3f27-4c30-9732-e9def303be04 button.colab-df-convert');\n",
              "        buttonEl.style.display =\n",
              "          google.colab.kernel.accessAllowed ? 'block' : 'none';\n",
              "\n",
              "        async function convertToInteractive(key) {\n",
              "          const element = document.querySelector('#df-4e02a1b4-3f27-4c30-9732-e9def303be04');\n",
              "          const dataTable =\n",
              "            await google.colab.kernel.invokeFunction('convertToInteractive',\n",
              "                                                     [key], {});\n",
              "          if (!dataTable) return;\n",
              "\n",
              "          const docLinkHtml = 'Like what you see? Visit the ' +\n",
              "            '<a target=\"_blank\" href=https://colab.research.google.com/notebooks/data_table.ipynb>data table notebook</a>'\n",
              "            + ' to learn more about interactive tables.';\n",
              "          element.innerHTML = '';\n",
              "          dataTable['output_type'] = 'display_data';\n",
              "          await google.colab.output.renderOutput(dataTable, element);\n",
              "          const docLink = document.createElement('div');\n",
              "          docLink.innerHTML = docLinkHtml;\n",
              "          element.appendChild(docLink);\n",
              "        }\n",
              "      </script>\n",
              "    </div>\n",
              "  </div>\n",
              "  "
            ],
            "text/plain": [
              "                 ID       LIMIT_BAL           SEX     EDUCATION      MARRIAGE  \\\n",
              "count  30000.000000    30000.000000  30000.000000  30000.000000  30000.000000   \n",
              "mean   15000.500000   167484.322667      1.603733      1.853133      1.551867   \n",
              "std     8660.398374   129747.661567      0.489129      0.790349      0.521970   \n",
              "min        1.000000    10000.000000      1.000000      0.000000      0.000000   \n",
              "25%     7500.750000    50000.000000      1.000000      1.000000      1.000000   \n",
              "50%    15000.500000   140000.000000      2.000000      2.000000      2.000000   \n",
              "75%    22500.250000   240000.000000      2.000000      2.000000      2.000000   \n",
              "max    30000.000000  1000000.000000      2.000000      6.000000      3.000000   \n",
              "\n",
              "                AGE         PAY_0         PAY_2         PAY_3         PAY_4  \\\n",
              "count  30000.000000  30000.000000  30000.000000  30000.000000  30000.000000   \n",
              "mean      35.485500     -0.016700     -0.133767     -0.166200     -0.220667   \n",
              "std        9.217904      1.123802      1.197186      1.196868      1.169139   \n",
              "min       21.000000     -2.000000     -2.000000     -2.000000     -2.000000   \n",
              "25%       28.000000     -1.000000     -1.000000     -1.000000     -1.000000   \n",
              "50%       34.000000      0.000000      0.000000      0.000000      0.000000   \n",
              "75%       41.000000      0.000000      0.000000      0.000000      0.000000   \n",
              "max       79.000000      8.000000      8.000000      8.000000      8.000000   \n",
              "\n",
              "              PAY_5         PAY_6      BILL_AMT1      BILL_AMT2     BILL_AMT3  \\\n",
              "count  30000.000000  30000.000000   30000.000000   30000.000000  3.000000e+04   \n",
              "mean      -0.266200     -0.291100   51223.330900   49179.075167  4.701315e+04   \n",
              "std        1.133187      1.149988   73635.860576   71173.768783  6.934939e+04   \n",
              "min       -2.000000     -2.000000 -165580.000000  -69777.000000 -1.572640e+05   \n",
              "25%       -1.000000     -1.000000    3558.750000    2984.750000  2.666250e+03   \n",
              "50%        0.000000      0.000000   22381.500000   21200.000000  2.008850e+04   \n",
              "75%        0.000000      0.000000   67091.000000   64006.250000  6.016475e+04   \n",
              "max        8.000000      8.000000  964511.000000  983931.000000  1.664089e+06   \n",
              "\n",
              "           BILL_AMT4      BILL_AMT5      BILL_AMT6       PAY_AMT1  \\\n",
              "count   30000.000000   30000.000000   30000.000000   30000.000000   \n",
              "mean    43262.948967   40311.400967   38871.760400    5663.580500   \n",
              "std     64332.856134   60797.155770   59554.107537   16563.280354   \n",
              "min   -170000.000000  -81334.000000 -339603.000000       0.000000   \n",
              "25%      2326.750000    1763.000000    1256.000000    1000.000000   \n",
              "50%     19052.000000   18104.500000   17071.000000    2100.000000   \n",
              "75%     54506.000000   50190.500000   49198.250000    5006.000000   \n",
              "max    891586.000000  927171.000000  961664.000000  873552.000000   \n",
              "\n",
              "           PAY_AMT2      PAY_AMT3       PAY_AMT4       PAY_AMT5  \\\n",
              "count  3.000000e+04   30000.00000   30000.000000   30000.000000   \n",
              "mean   5.921163e+03    5225.68150    4826.076867    4799.387633   \n",
              "std    2.304087e+04   17606.96147   15666.159744   15278.305679   \n",
              "min    0.000000e+00       0.00000       0.000000       0.000000   \n",
              "25%    8.330000e+02     390.00000     296.000000     252.500000   \n",
              "50%    2.009000e+03    1800.00000    1500.000000    1500.000000   \n",
              "75%    5.000000e+03    4505.00000    4013.250000    4031.500000   \n",
              "max    1.684259e+06  896040.00000  621000.000000  426529.000000   \n",
              "\n",
              "            PAY_AMT6  default.payment.next.month  \n",
              "count   30000.000000                30000.000000  \n",
              "mean     5215.502567                    0.221200  \n",
              "std     17777.465775                    0.415062  \n",
              "min         0.000000                    0.000000  \n",
              "25%       117.750000                    0.000000  \n",
              "50%      1500.000000                    0.000000  \n",
              "75%      4000.000000                    0.000000  \n",
              "max    528666.000000                    1.000000  "
            ]
          },
          "execution_count": 6,
          "metadata": {},
          "output_type": "execute_result"
        }
      ],
      "source": [
        "df.describe()"
      ]
    },
    {
      "cell_type": "code",
      "execution_count": 7,
      "metadata": {
        "colab": {
          "base_uri": "https://localhost:8080/",
          "height": 897
        },
        "id": "bxzEO6Gd7cUN",
        "outputId": "fb3e8c7a-18ac-4186-a5c9-3ad0a5e70b7b"
      },
      "outputs": [
        {
          "data": {
            "text/html": [
              "\n",
              "  <div id=\"df-1becb21f-8a0b-4ccb-9295-722d5c71ae55\">\n",
              "    <div class=\"colab-df-container\">\n",
              "      <div>\n",
              "<style scoped>\n",
              "    .dataframe tbody tr th:only-of-type {\n",
              "        vertical-align: middle;\n",
              "    }\n",
              "\n",
              "    .dataframe tbody tr th {\n",
              "        vertical-align: top;\n",
              "    }\n",
              "\n",
              "    .dataframe thead th {\n",
              "        text-align: right;\n",
              "    }\n",
              "</style>\n",
              "<table border=\"1\" class=\"dataframe\">\n",
              "  <thead>\n",
              "    <tr style=\"text-align: right;\">\n",
              "      <th></th>\n",
              "      <th>ID</th>\n",
              "      <th>LIMIT_BAL</th>\n",
              "      <th>SEX</th>\n",
              "      <th>EDUCATION</th>\n",
              "      <th>MARRIAGE</th>\n",
              "      <th>AGE</th>\n",
              "      <th>PAY_0</th>\n",
              "      <th>PAY_2</th>\n",
              "      <th>PAY_3</th>\n",
              "      <th>PAY_4</th>\n",
              "      <th>PAY_5</th>\n",
              "      <th>PAY_6</th>\n",
              "      <th>BILL_AMT1</th>\n",
              "      <th>BILL_AMT2</th>\n",
              "      <th>BILL_AMT3</th>\n",
              "      <th>BILL_AMT4</th>\n",
              "      <th>BILL_AMT5</th>\n",
              "      <th>BILL_AMT6</th>\n",
              "      <th>PAY_AMT1</th>\n",
              "      <th>PAY_AMT2</th>\n",
              "      <th>PAY_AMT3</th>\n",
              "      <th>PAY_AMT4</th>\n",
              "      <th>PAY_AMT5</th>\n",
              "      <th>PAY_AMT6</th>\n",
              "      <th>default.payment.next.month</th>\n",
              "    </tr>\n",
              "  </thead>\n",
              "  <tbody>\n",
              "    <tr>\n",
              "      <th>ID</th>\n",
              "      <td>1.000000</td>\n",
              "      <td>0.026179</td>\n",
              "      <td>0.018497</td>\n",
              "      <td>0.039177</td>\n",
              "      <td>-0.029079</td>\n",
              "      <td>0.018678</td>\n",
              "      <td>-0.030575</td>\n",
              "      <td>-0.011215</td>\n",
              "      <td>-0.018494</td>\n",
              "      <td>-0.002735</td>\n",
              "      <td>-0.022199</td>\n",
              "      <td>-0.020270</td>\n",
              "      <td>0.019389</td>\n",
              "      <td>0.017982</td>\n",
              "      <td>0.024354</td>\n",
              "      <td>0.040351</td>\n",
              "      <td>0.016705</td>\n",
              "      <td>0.016730</td>\n",
              "      <td>0.009742</td>\n",
              "      <td>0.008406</td>\n",
              "      <td>0.039151</td>\n",
              "      <td>0.007793</td>\n",
              "      <td>0.000652</td>\n",
              "      <td>0.003000</td>\n",
              "      <td>-0.013952</td>\n",
              "    </tr>\n",
              "    <tr>\n",
              "      <th>LIMIT_BAL</th>\n",
              "      <td>0.026179</td>\n",
              "      <td>1.000000</td>\n",
              "      <td>0.024755</td>\n",
              "      <td>-0.219161</td>\n",
              "      <td>-0.108139</td>\n",
              "      <td>0.144713</td>\n",
              "      <td>-0.271214</td>\n",
              "      <td>-0.296382</td>\n",
              "      <td>-0.286123</td>\n",
              "      <td>-0.267460</td>\n",
              "      <td>-0.249411</td>\n",
              "      <td>-0.235195</td>\n",
              "      <td>0.285430</td>\n",
              "      <td>0.278314</td>\n",
              "      <td>0.283236</td>\n",
              "      <td>0.293988</td>\n",
              "      <td>0.295562</td>\n",
              "      <td>0.290389</td>\n",
              "      <td>0.195236</td>\n",
              "      <td>0.178408</td>\n",
              "      <td>0.210167</td>\n",
              "      <td>0.203242</td>\n",
              "      <td>0.217202</td>\n",
              "      <td>0.219595</td>\n",
              "      <td>-0.153520</td>\n",
              "    </tr>\n",
              "    <tr>\n",
              "      <th>SEX</th>\n",
              "      <td>0.018497</td>\n",
              "      <td>0.024755</td>\n",
              "      <td>1.000000</td>\n",
              "      <td>0.014232</td>\n",
              "      <td>-0.031389</td>\n",
              "      <td>-0.090874</td>\n",
              "      <td>-0.057643</td>\n",
              "      <td>-0.070771</td>\n",
              "      <td>-0.066096</td>\n",
              "      <td>-0.060173</td>\n",
              "      <td>-0.055064</td>\n",
              "      <td>-0.044008</td>\n",
              "      <td>-0.033642</td>\n",
              "      <td>-0.031183</td>\n",
              "      <td>-0.024563</td>\n",
              "      <td>-0.021880</td>\n",
              "      <td>-0.017005</td>\n",
              "      <td>-0.016733</td>\n",
              "      <td>-0.000242</td>\n",
              "      <td>-0.001391</td>\n",
              "      <td>-0.008597</td>\n",
              "      <td>-0.002229</td>\n",
              "      <td>-0.001667</td>\n",
              "      <td>-0.002766</td>\n",
              "      <td>-0.039961</td>\n",
              "    </tr>\n",
              "    <tr>\n",
              "      <th>EDUCATION</th>\n",
              "      <td>0.039177</td>\n",
              "      <td>-0.219161</td>\n",
              "      <td>0.014232</td>\n",
              "      <td>1.000000</td>\n",
              "      <td>-0.143464</td>\n",
              "      <td>0.175061</td>\n",
              "      <td>0.105364</td>\n",
              "      <td>0.121566</td>\n",
              "      <td>0.114025</td>\n",
              "      <td>0.108793</td>\n",
              "      <td>0.097520</td>\n",
              "      <td>0.082316</td>\n",
              "      <td>0.023581</td>\n",
              "      <td>0.018749</td>\n",
              "      <td>0.013002</td>\n",
              "      <td>-0.000451</td>\n",
              "      <td>-0.007567</td>\n",
              "      <td>-0.009099</td>\n",
              "      <td>-0.037456</td>\n",
              "      <td>-0.030038</td>\n",
              "      <td>-0.039943</td>\n",
              "      <td>-0.038218</td>\n",
              "      <td>-0.040358</td>\n",
              "      <td>-0.037200</td>\n",
              "      <td>0.028006</td>\n",
              "    </tr>\n",
              "    <tr>\n",
              "      <th>MARRIAGE</th>\n",
              "      <td>-0.029079</td>\n",
              "      <td>-0.108139</td>\n",
              "      <td>-0.031389</td>\n",
              "      <td>-0.143464</td>\n",
              "      <td>1.000000</td>\n",
              "      <td>-0.414170</td>\n",
              "      <td>0.019917</td>\n",
              "      <td>0.024199</td>\n",
              "      <td>0.032688</td>\n",
              "      <td>0.033122</td>\n",
              "      <td>0.035629</td>\n",
              "      <td>0.034345</td>\n",
              "      <td>-0.023472</td>\n",
              "      <td>-0.021602</td>\n",
              "      <td>-0.024909</td>\n",
              "      <td>-0.023344</td>\n",
              "      <td>-0.025393</td>\n",
              "      <td>-0.021207</td>\n",
              "      <td>-0.005979</td>\n",
              "      <td>-0.008093</td>\n",
              "      <td>-0.003541</td>\n",
              "      <td>-0.012659</td>\n",
              "      <td>-0.001205</td>\n",
              "      <td>-0.006641</td>\n",
              "      <td>-0.024339</td>\n",
              "    </tr>\n",
              "    <tr>\n",
              "      <th>AGE</th>\n",
              "      <td>0.018678</td>\n",
              "      <td>0.144713</td>\n",
              "      <td>-0.090874</td>\n",
              "      <td>0.175061</td>\n",
              "      <td>-0.414170</td>\n",
              "      <td>1.000000</td>\n",
              "      <td>-0.039447</td>\n",
              "      <td>-0.050148</td>\n",
              "      <td>-0.053048</td>\n",
              "      <td>-0.049722</td>\n",
              "      <td>-0.053826</td>\n",
              "      <td>-0.048773</td>\n",
              "      <td>0.056239</td>\n",
              "      <td>0.054283</td>\n",
              "      <td>0.053710</td>\n",
              "      <td>0.051353</td>\n",
              "      <td>0.049345</td>\n",
              "      <td>0.047613</td>\n",
              "      <td>0.026147</td>\n",
              "      <td>0.021785</td>\n",
              "      <td>0.029247</td>\n",
              "      <td>0.021379</td>\n",
              "      <td>0.022850</td>\n",
              "      <td>0.019478</td>\n",
              "      <td>0.013890</td>\n",
              "    </tr>\n",
              "    <tr>\n",
              "      <th>PAY_0</th>\n",
              "      <td>-0.030575</td>\n",
              "      <td>-0.271214</td>\n",
              "      <td>-0.057643</td>\n",
              "      <td>0.105364</td>\n",
              "      <td>0.019917</td>\n",
              "      <td>-0.039447</td>\n",
              "      <td>1.000000</td>\n",
              "      <td>0.672164</td>\n",
              "      <td>0.574245</td>\n",
              "      <td>0.538841</td>\n",
              "      <td>0.509426</td>\n",
              "      <td>0.474553</td>\n",
              "      <td>0.187068</td>\n",
              "      <td>0.189859</td>\n",
              "      <td>0.179785</td>\n",
              "      <td>0.179125</td>\n",
              "      <td>0.180635</td>\n",
              "      <td>0.176980</td>\n",
              "      <td>-0.079269</td>\n",
              "      <td>-0.070101</td>\n",
              "      <td>-0.070561</td>\n",
              "      <td>-0.064005</td>\n",
              "      <td>-0.058190</td>\n",
              "      <td>-0.058673</td>\n",
              "      <td>0.324794</td>\n",
              "    </tr>\n",
              "    <tr>\n",
              "      <th>PAY_2</th>\n",
              "      <td>-0.011215</td>\n",
              "      <td>-0.296382</td>\n",
              "      <td>-0.070771</td>\n",
              "      <td>0.121566</td>\n",
              "      <td>0.024199</td>\n",
              "      <td>-0.050148</td>\n",
              "      <td>0.672164</td>\n",
              "      <td>1.000000</td>\n",
              "      <td>0.766552</td>\n",
              "      <td>0.662067</td>\n",
              "      <td>0.622780</td>\n",
              "      <td>0.575501</td>\n",
              "      <td>0.234887</td>\n",
              "      <td>0.235257</td>\n",
              "      <td>0.224146</td>\n",
              "      <td>0.222237</td>\n",
              "      <td>0.221348</td>\n",
              "      <td>0.219403</td>\n",
              "      <td>-0.080701</td>\n",
              "      <td>-0.058990</td>\n",
              "      <td>-0.055901</td>\n",
              "      <td>-0.046858</td>\n",
              "      <td>-0.037093</td>\n",
              "      <td>-0.036500</td>\n",
              "      <td>0.263551</td>\n",
              "    </tr>\n",
              "    <tr>\n",
              "      <th>PAY_3</th>\n",
              "      <td>-0.018494</td>\n",
              "      <td>-0.286123</td>\n",
              "      <td>-0.066096</td>\n",
              "      <td>0.114025</td>\n",
              "      <td>0.032688</td>\n",
              "      <td>-0.053048</td>\n",
              "      <td>0.574245</td>\n",
              "      <td>0.766552</td>\n",
              "      <td>1.000000</td>\n",
              "      <td>0.777359</td>\n",
              "      <td>0.686775</td>\n",
              "      <td>0.632684</td>\n",
              "      <td>0.208473</td>\n",
              "      <td>0.237295</td>\n",
              "      <td>0.227494</td>\n",
              "      <td>0.227202</td>\n",
              "      <td>0.225145</td>\n",
              "      <td>0.222327</td>\n",
              "      <td>0.001295</td>\n",
              "      <td>-0.066793</td>\n",
              "      <td>-0.053311</td>\n",
              "      <td>-0.046067</td>\n",
              "      <td>-0.035863</td>\n",
              "      <td>-0.035861</td>\n",
              "      <td>0.235253</td>\n",
              "    </tr>\n",
              "    <tr>\n",
              "      <th>PAY_4</th>\n",
              "      <td>-0.002735</td>\n",
              "      <td>-0.267460</td>\n",
              "      <td>-0.060173</td>\n",
              "      <td>0.108793</td>\n",
              "      <td>0.033122</td>\n",
              "      <td>-0.049722</td>\n",
              "      <td>0.538841</td>\n",
              "      <td>0.662067</td>\n",
              "      <td>0.777359</td>\n",
              "      <td>1.000000</td>\n",
              "      <td>0.819835</td>\n",
              "      <td>0.716449</td>\n",
              "      <td>0.202812</td>\n",
              "      <td>0.225816</td>\n",
              "      <td>0.244983</td>\n",
              "      <td>0.245917</td>\n",
              "      <td>0.242902</td>\n",
              "      <td>0.239154</td>\n",
              "      <td>-0.009362</td>\n",
              "      <td>-0.001944</td>\n",
              "      <td>-0.069235</td>\n",
              "      <td>-0.043461</td>\n",
              "      <td>-0.033590</td>\n",
              "      <td>-0.026565</td>\n",
              "      <td>0.216614</td>\n",
              "    </tr>\n",
              "    <tr>\n",
              "      <th>PAY_5</th>\n",
              "      <td>-0.022199</td>\n",
              "      <td>-0.249411</td>\n",
              "      <td>-0.055064</td>\n",
              "      <td>0.097520</td>\n",
              "      <td>0.035629</td>\n",
              "      <td>-0.053826</td>\n",
              "      <td>0.509426</td>\n",
              "      <td>0.622780</td>\n",
              "      <td>0.686775</td>\n",
              "      <td>0.819835</td>\n",
              "      <td>1.000000</td>\n",
              "      <td>0.816900</td>\n",
              "      <td>0.206684</td>\n",
              "      <td>0.226913</td>\n",
              "      <td>0.243335</td>\n",
              "      <td>0.271915</td>\n",
              "      <td>0.269783</td>\n",
              "      <td>0.262509</td>\n",
              "      <td>-0.006089</td>\n",
              "      <td>-0.003191</td>\n",
              "      <td>0.009062</td>\n",
              "      <td>-0.058299</td>\n",
              "      <td>-0.033337</td>\n",
              "      <td>-0.023027</td>\n",
              "      <td>0.204149</td>\n",
              "    </tr>\n",
              "    <tr>\n",
              "      <th>PAY_6</th>\n",
              "      <td>-0.020270</td>\n",
              "      <td>-0.235195</td>\n",
              "      <td>-0.044008</td>\n",
              "      <td>0.082316</td>\n",
              "      <td>0.034345</td>\n",
              "      <td>-0.048773</td>\n",
              "      <td>0.474553</td>\n",
              "      <td>0.575501</td>\n",
              "      <td>0.632684</td>\n",
              "      <td>0.716449</td>\n",
              "      <td>0.816900</td>\n",
              "      <td>1.000000</td>\n",
              "      <td>0.207373</td>\n",
              "      <td>0.226924</td>\n",
              "      <td>0.241181</td>\n",
              "      <td>0.266356</td>\n",
              "      <td>0.290894</td>\n",
              "      <td>0.285091</td>\n",
              "      <td>-0.001496</td>\n",
              "      <td>-0.005223</td>\n",
              "      <td>0.005834</td>\n",
              "      <td>0.019018</td>\n",
              "      <td>-0.046434</td>\n",
              "      <td>-0.025299</td>\n",
              "      <td>0.186866</td>\n",
              "    </tr>\n",
              "    <tr>\n",
              "      <th>BILL_AMT1</th>\n",
              "      <td>0.019389</td>\n",
              "      <td>0.285430</td>\n",
              "      <td>-0.033642</td>\n",
              "      <td>0.023581</td>\n",
              "      <td>-0.023472</td>\n",
              "      <td>0.056239</td>\n",
              "      <td>0.187068</td>\n",
              "      <td>0.234887</td>\n",
              "      <td>0.208473</td>\n",
              "      <td>0.202812</td>\n",
              "      <td>0.206684</td>\n",
              "      <td>0.207373</td>\n",
              "      <td>1.000000</td>\n",
              "      <td>0.951484</td>\n",
              "      <td>0.892279</td>\n",
              "      <td>0.860272</td>\n",
              "      <td>0.829779</td>\n",
              "      <td>0.802650</td>\n",
              "      <td>0.140277</td>\n",
              "      <td>0.099355</td>\n",
              "      <td>0.156887</td>\n",
              "      <td>0.158303</td>\n",
              "      <td>0.167026</td>\n",
              "      <td>0.179341</td>\n",
              "      <td>-0.019644</td>\n",
              "    </tr>\n",
              "    <tr>\n",
              "      <th>BILL_AMT2</th>\n",
              "      <td>0.017982</td>\n",
              "      <td>0.278314</td>\n",
              "      <td>-0.031183</td>\n",
              "      <td>0.018749</td>\n",
              "      <td>-0.021602</td>\n",
              "      <td>0.054283</td>\n",
              "      <td>0.189859</td>\n",
              "      <td>0.235257</td>\n",
              "      <td>0.237295</td>\n",
              "      <td>0.225816</td>\n",
              "      <td>0.226913</td>\n",
              "      <td>0.226924</td>\n",
              "      <td>0.951484</td>\n",
              "      <td>1.000000</td>\n",
              "      <td>0.928326</td>\n",
              "      <td>0.892482</td>\n",
              "      <td>0.859778</td>\n",
              "      <td>0.831594</td>\n",
              "      <td>0.280365</td>\n",
              "      <td>0.100851</td>\n",
              "      <td>0.150718</td>\n",
              "      <td>0.147398</td>\n",
              "      <td>0.157957</td>\n",
              "      <td>0.174256</td>\n",
              "      <td>-0.014193</td>\n",
              "    </tr>\n",
              "    <tr>\n",
              "      <th>BILL_AMT3</th>\n",
              "      <td>0.024354</td>\n",
              "      <td>0.283236</td>\n",
              "      <td>-0.024563</td>\n",
              "      <td>0.013002</td>\n",
              "      <td>-0.024909</td>\n",
              "      <td>0.053710</td>\n",
              "      <td>0.179785</td>\n",
              "      <td>0.224146</td>\n",
              "      <td>0.227494</td>\n",
              "      <td>0.244983</td>\n",
              "      <td>0.243335</td>\n",
              "      <td>0.241181</td>\n",
              "      <td>0.892279</td>\n",
              "      <td>0.928326</td>\n",
              "      <td>1.000000</td>\n",
              "      <td>0.923969</td>\n",
              "      <td>0.883910</td>\n",
              "      <td>0.853320</td>\n",
              "      <td>0.244335</td>\n",
              "      <td>0.316936</td>\n",
              "      <td>0.130011</td>\n",
              "      <td>0.143405</td>\n",
              "      <td>0.179712</td>\n",
              "      <td>0.182326</td>\n",
              "      <td>-0.014076</td>\n",
              "    </tr>\n",
              "    <tr>\n",
              "      <th>BILL_AMT4</th>\n",
              "      <td>0.040351</td>\n",
              "      <td>0.293988</td>\n",
              "      <td>-0.021880</td>\n",
              "      <td>-0.000451</td>\n",
              "      <td>-0.023344</td>\n",
              "      <td>0.051353</td>\n",
              "      <td>0.179125</td>\n",
              "      <td>0.222237</td>\n",
              "      <td>0.227202</td>\n",
              "      <td>0.245917</td>\n",
              "      <td>0.271915</td>\n",
              "      <td>0.266356</td>\n",
              "      <td>0.860272</td>\n",
              "      <td>0.892482</td>\n",
              "      <td>0.923969</td>\n",
              "      <td>1.000000</td>\n",
              "      <td>0.940134</td>\n",
              "      <td>0.900941</td>\n",
              "      <td>0.233012</td>\n",
              "      <td>0.207564</td>\n",
              "      <td>0.300023</td>\n",
              "      <td>0.130191</td>\n",
              "      <td>0.160433</td>\n",
              "      <td>0.177637</td>\n",
              "      <td>-0.010156</td>\n",
              "    </tr>\n",
              "    <tr>\n",
              "      <th>BILL_AMT5</th>\n",
              "      <td>0.016705</td>\n",
              "      <td>0.295562</td>\n",
              "      <td>-0.017005</td>\n",
              "      <td>-0.007567</td>\n",
              "      <td>-0.025393</td>\n",
              "      <td>0.049345</td>\n",
              "      <td>0.180635</td>\n",
              "      <td>0.221348</td>\n",
              "      <td>0.225145</td>\n",
              "      <td>0.242902</td>\n",
              "      <td>0.269783</td>\n",
              "      <td>0.290894</td>\n",
              "      <td>0.829779</td>\n",
              "      <td>0.859778</td>\n",
              "      <td>0.883910</td>\n",
              "      <td>0.940134</td>\n",
              "      <td>1.000000</td>\n",
              "      <td>0.946197</td>\n",
              "      <td>0.217031</td>\n",
              "      <td>0.181246</td>\n",
              "      <td>0.252305</td>\n",
              "      <td>0.293118</td>\n",
              "      <td>0.141574</td>\n",
              "      <td>0.164184</td>\n",
              "      <td>-0.006760</td>\n",
              "    </tr>\n",
              "    <tr>\n",
              "      <th>BILL_AMT6</th>\n",
              "      <td>0.016730</td>\n",
              "      <td>0.290389</td>\n",
              "      <td>-0.016733</td>\n",
              "      <td>-0.009099</td>\n",
              "      <td>-0.021207</td>\n",
              "      <td>0.047613</td>\n",
              "      <td>0.176980</td>\n",
              "      <td>0.219403</td>\n",
              "      <td>0.222327</td>\n",
              "      <td>0.239154</td>\n",
              "      <td>0.262509</td>\n",
              "      <td>0.285091</td>\n",
              "      <td>0.802650</td>\n",
              "      <td>0.831594</td>\n",
              "      <td>0.853320</td>\n",
              "      <td>0.900941</td>\n",
              "      <td>0.946197</td>\n",
              "      <td>1.000000</td>\n",
              "      <td>0.199965</td>\n",
              "      <td>0.172663</td>\n",
              "      <td>0.233770</td>\n",
              "      <td>0.250237</td>\n",
              "      <td>0.307729</td>\n",
              "      <td>0.115494</td>\n",
              "      <td>-0.005372</td>\n",
              "    </tr>\n",
              "    <tr>\n",
              "      <th>PAY_AMT1</th>\n",
              "      <td>0.009742</td>\n",
              "      <td>0.195236</td>\n",
              "      <td>-0.000242</td>\n",
              "      <td>-0.037456</td>\n",
              "      <td>-0.005979</td>\n",
              "      <td>0.026147</td>\n",
              "      <td>-0.079269</td>\n",
              "      <td>-0.080701</td>\n",
              "      <td>0.001295</td>\n",
              "      <td>-0.009362</td>\n",
              "      <td>-0.006089</td>\n",
              "      <td>-0.001496</td>\n",
              "      <td>0.140277</td>\n",
              "      <td>0.280365</td>\n",
              "      <td>0.244335</td>\n",
              "      <td>0.233012</td>\n",
              "      <td>0.217031</td>\n",
              "      <td>0.199965</td>\n",
              "      <td>1.000000</td>\n",
              "      <td>0.285576</td>\n",
              "      <td>0.252191</td>\n",
              "      <td>0.199558</td>\n",
              "      <td>0.148459</td>\n",
              "      <td>0.185735</td>\n",
              "      <td>-0.072929</td>\n",
              "    </tr>\n",
              "    <tr>\n",
              "      <th>PAY_AMT2</th>\n",
              "      <td>0.008406</td>\n",
              "      <td>0.178408</td>\n",
              "      <td>-0.001391</td>\n",
              "      <td>-0.030038</td>\n",
              "      <td>-0.008093</td>\n",
              "      <td>0.021785</td>\n",
              "      <td>-0.070101</td>\n",
              "      <td>-0.058990</td>\n",
              "      <td>-0.066793</td>\n",
              "      <td>-0.001944</td>\n",
              "      <td>-0.003191</td>\n",
              "      <td>-0.005223</td>\n",
              "      <td>0.099355</td>\n",
              "      <td>0.100851</td>\n",
              "      <td>0.316936</td>\n",
              "      <td>0.207564</td>\n",
              "      <td>0.181246</td>\n",
              "      <td>0.172663</td>\n",
              "      <td>0.285576</td>\n",
              "      <td>1.000000</td>\n",
              "      <td>0.244770</td>\n",
              "      <td>0.180107</td>\n",
              "      <td>0.180908</td>\n",
              "      <td>0.157634</td>\n",
              "      <td>-0.058579</td>\n",
              "    </tr>\n",
              "    <tr>\n",
              "      <th>PAY_AMT3</th>\n",
              "      <td>0.039151</td>\n",
              "      <td>0.210167</td>\n",
              "      <td>-0.008597</td>\n",
              "      <td>-0.039943</td>\n",
              "      <td>-0.003541</td>\n",
              "      <td>0.029247</td>\n",
              "      <td>-0.070561</td>\n",
              "      <td>-0.055901</td>\n",
              "      <td>-0.053311</td>\n",
              "      <td>-0.069235</td>\n",
              "      <td>0.009062</td>\n",
              "      <td>0.005834</td>\n",
              "      <td>0.156887</td>\n",
              "      <td>0.150718</td>\n",
              "      <td>0.130011</td>\n",
              "      <td>0.300023</td>\n",
              "      <td>0.252305</td>\n",
              "      <td>0.233770</td>\n",
              "      <td>0.252191</td>\n",
              "      <td>0.244770</td>\n",
              "      <td>1.000000</td>\n",
              "      <td>0.216325</td>\n",
              "      <td>0.159214</td>\n",
              "      <td>0.162740</td>\n",
              "      <td>-0.056250</td>\n",
              "    </tr>\n",
              "    <tr>\n",
              "      <th>PAY_AMT4</th>\n",
              "      <td>0.007793</td>\n",
              "      <td>0.203242</td>\n",
              "      <td>-0.002229</td>\n",
              "      <td>-0.038218</td>\n",
              "      <td>-0.012659</td>\n",
              "      <td>0.021379</td>\n",
              "      <td>-0.064005</td>\n",
              "      <td>-0.046858</td>\n",
              "      <td>-0.046067</td>\n",
              "      <td>-0.043461</td>\n",
              "      <td>-0.058299</td>\n",
              "      <td>0.019018</td>\n",
              "      <td>0.158303</td>\n",
              "      <td>0.147398</td>\n",
              "      <td>0.143405</td>\n",
              "      <td>0.130191</td>\n",
              "      <td>0.293118</td>\n",
              "      <td>0.250237</td>\n",
              "      <td>0.199558</td>\n",
              "      <td>0.180107</td>\n",
              "      <td>0.216325</td>\n",
              "      <td>1.000000</td>\n",
              "      <td>0.151830</td>\n",
              "      <td>0.157834</td>\n",
              "      <td>-0.056827</td>\n",
              "    </tr>\n",
              "    <tr>\n",
              "      <th>PAY_AMT5</th>\n",
              "      <td>0.000652</td>\n",
              "      <td>0.217202</td>\n",
              "      <td>-0.001667</td>\n",
              "      <td>-0.040358</td>\n",
              "      <td>-0.001205</td>\n",
              "      <td>0.022850</td>\n",
              "      <td>-0.058190</td>\n",
              "      <td>-0.037093</td>\n",
              "      <td>-0.035863</td>\n",
              "      <td>-0.033590</td>\n",
              "      <td>-0.033337</td>\n",
              "      <td>-0.046434</td>\n",
              "      <td>0.167026</td>\n",
              "      <td>0.157957</td>\n",
              "      <td>0.179712</td>\n",
              "      <td>0.160433</td>\n",
              "      <td>0.141574</td>\n",
              "      <td>0.307729</td>\n",
              "      <td>0.148459</td>\n",
              "      <td>0.180908</td>\n",
              "      <td>0.159214</td>\n",
              "      <td>0.151830</td>\n",
              "      <td>1.000000</td>\n",
              "      <td>0.154896</td>\n",
              "      <td>-0.055124</td>\n",
              "    </tr>\n",
              "    <tr>\n",
              "      <th>PAY_AMT6</th>\n",
              "      <td>0.003000</td>\n",
              "      <td>0.219595</td>\n",
              "      <td>-0.002766</td>\n",
              "      <td>-0.037200</td>\n",
              "      <td>-0.006641</td>\n",
              "      <td>0.019478</td>\n",
              "      <td>-0.058673</td>\n",
              "      <td>-0.036500</td>\n",
              "      <td>-0.035861</td>\n",
              "      <td>-0.026565</td>\n",
              "      <td>-0.023027</td>\n",
              "      <td>-0.025299</td>\n",
              "      <td>0.179341</td>\n",
              "      <td>0.174256</td>\n",
              "      <td>0.182326</td>\n",
              "      <td>0.177637</td>\n",
              "      <td>0.164184</td>\n",
              "      <td>0.115494</td>\n",
              "      <td>0.185735</td>\n",
              "      <td>0.157634</td>\n",
              "      <td>0.162740</td>\n",
              "      <td>0.157834</td>\n",
              "      <td>0.154896</td>\n",
              "      <td>1.000000</td>\n",
              "      <td>-0.053183</td>\n",
              "    </tr>\n",
              "    <tr>\n",
              "      <th>default.payment.next.month</th>\n",
              "      <td>-0.013952</td>\n",
              "      <td>-0.153520</td>\n",
              "      <td>-0.039961</td>\n",
              "      <td>0.028006</td>\n",
              "      <td>-0.024339</td>\n",
              "      <td>0.013890</td>\n",
              "      <td>0.324794</td>\n",
              "      <td>0.263551</td>\n",
              "      <td>0.235253</td>\n",
              "      <td>0.216614</td>\n",
              "      <td>0.204149</td>\n",
              "      <td>0.186866</td>\n",
              "      <td>-0.019644</td>\n",
              "      <td>-0.014193</td>\n",
              "      <td>-0.014076</td>\n",
              "      <td>-0.010156</td>\n",
              "      <td>-0.006760</td>\n",
              "      <td>-0.005372</td>\n",
              "      <td>-0.072929</td>\n",
              "      <td>-0.058579</td>\n",
              "      <td>-0.056250</td>\n",
              "      <td>-0.056827</td>\n",
              "      <td>-0.055124</td>\n",
              "      <td>-0.053183</td>\n",
              "      <td>1.000000</td>\n",
              "    </tr>\n",
              "  </tbody>\n",
              "</table>\n",
              "</div>\n",
              "      <button class=\"colab-df-convert\" onclick=\"convertToInteractive('df-1becb21f-8a0b-4ccb-9295-722d5c71ae55')\"\n",
              "              title=\"Convert this dataframe to an interactive table.\"\n",
              "              style=\"display:none;\">\n",
              "        \n",
              "  <svg xmlns=\"http://www.w3.org/2000/svg\" height=\"24px\"viewBox=\"0 0 24 24\"\n",
              "       width=\"24px\">\n",
              "    <path d=\"M0 0h24v24H0V0z\" fill=\"none\"/>\n",
              "    <path d=\"M18.56 5.44l.94 2.06.94-2.06 2.06-.94-2.06-.94-.94-2.06-.94 2.06-2.06.94zm-11 1L8.5 8.5l.94-2.06 2.06-.94-2.06-.94L8.5 2.5l-.94 2.06-2.06.94zm10 10l.94 2.06.94-2.06 2.06-.94-2.06-.94-.94-2.06-.94 2.06-2.06.94z\"/><path d=\"M17.41 7.96l-1.37-1.37c-.4-.4-.92-.59-1.43-.59-.52 0-1.04.2-1.43.59L10.3 9.45l-7.72 7.72c-.78.78-.78 2.05 0 2.83L4 21.41c.39.39.9.59 1.41.59.51 0 1.02-.2 1.41-.59l7.78-7.78 2.81-2.81c.8-.78.8-2.07 0-2.86zM5.41 20L4 18.59l7.72-7.72 1.47 1.35L5.41 20z\"/>\n",
              "  </svg>\n",
              "      </button>\n",
              "      \n",
              "  <style>\n",
              "    .colab-df-container {\n",
              "      display:flex;\n",
              "      flex-wrap:wrap;\n",
              "      gap: 12px;\n",
              "    }\n",
              "\n",
              "    .colab-df-convert {\n",
              "      background-color: #E8F0FE;\n",
              "      border: none;\n",
              "      border-radius: 50%;\n",
              "      cursor: pointer;\n",
              "      display: none;\n",
              "      fill: #1967D2;\n",
              "      height: 32px;\n",
              "      padding: 0 0 0 0;\n",
              "      width: 32px;\n",
              "    }\n",
              "\n",
              "    .colab-df-convert:hover {\n",
              "      background-color: #E2EBFA;\n",
              "      box-shadow: 0px 1px 2px rgba(60, 64, 67, 0.3), 0px 1px 3px 1px rgba(60, 64, 67, 0.15);\n",
              "      fill: #174EA6;\n",
              "    }\n",
              "\n",
              "    [theme=dark] .colab-df-convert {\n",
              "      background-color: #3B4455;\n",
              "      fill: #D2E3FC;\n",
              "    }\n",
              "\n",
              "    [theme=dark] .colab-df-convert:hover {\n",
              "      background-color: #434B5C;\n",
              "      box-shadow: 0px 1px 3px 1px rgba(0, 0, 0, 0.15);\n",
              "      filter: drop-shadow(0px 1px 2px rgba(0, 0, 0, 0.3));\n",
              "      fill: #FFFFFF;\n",
              "    }\n",
              "  </style>\n",
              "\n",
              "      <script>\n",
              "        const buttonEl =\n",
              "          document.querySelector('#df-1becb21f-8a0b-4ccb-9295-722d5c71ae55 button.colab-df-convert');\n",
              "        buttonEl.style.display =\n",
              "          google.colab.kernel.accessAllowed ? 'block' : 'none';\n",
              "\n",
              "        async function convertToInteractive(key) {\n",
              "          const element = document.querySelector('#df-1becb21f-8a0b-4ccb-9295-722d5c71ae55');\n",
              "          const dataTable =\n",
              "            await google.colab.kernel.invokeFunction('convertToInteractive',\n",
              "                                                     [key], {});\n",
              "          if (!dataTable) return;\n",
              "\n",
              "          const docLinkHtml = 'Like what you see? Visit the ' +\n",
              "            '<a target=\"_blank\" href=https://colab.research.google.com/notebooks/data_table.ipynb>data table notebook</a>'\n",
              "            + ' to learn more about interactive tables.';\n",
              "          element.innerHTML = '';\n",
              "          dataTable['output_type'] = 'display_data';\n",
              "          await google.colab.output.renderOutput(dataTable, element);\n",
              "          const docLink = document.createElement('div');\n",
              "          docLink.innerHTML = docLinkHtml;\n",
              "          element.appendChild(docLink);\n",
              "        }\n",
              "      </script>\n",
              "    </div>\n",
              "  </div>\n",
              "  "
            ],
            "text/plain": [
              "                                  ID  LIMIT_BAL       SEX  EDUCATION  \\\n",
              "ID                          1.000000   0.026179  0.018497   0.039177   \n",
              "LIMIT_BAL                   0.026179   1.000000  0.024755  -0.219161   \n",
              "SEX                         0.018497   0.024755  1.000000   0.014232   \n",
              "EDUCATION                   0.039177  -0.219161  0.014232   1.000000   \n",
              "MARRIAGE                   -0.029079  -0.108139 -0.031389  -0.143464   \n",
              "AGE                         0.018678   0.144713 -0.090874   0.175061   \n",
              "PAY_0                      -0.030575  -0.271214 -0.057643   0.105364   \n",
              "PAY_2                      -0.011215  -0.296382 -0.070771   0.121566   \n",
              "PAY_3                      -0.018494  -0.286123 -0.066096   0.114025   \n",
              "PAY_4                      -0.002735  -0.267460 -0.060173   0.108793   \n",
              "PAY_5                      -0.022199  -0.249411 -0.055064   0.097520   \n",
              "PAY_6                      -0.020270  -0.235195 -0.044008   0.082316   \n",
              "BILL_AMT1                   0.019389   0.285430 -0.033642   0.023581   \n",
              "BILL_AMT2                   0.017982   0.278314 -0.031183   0.018749   \n",
              "BILL_AMT3                   0.024354   0.283236 -0.024563   0.013002   \n",
              "BILL_AMT4                   0.040351   0.293988 -0.021880  -0.000451   \n",
              "BILL_AMT5                   0.016705   0.295562 -0.017005  -0.007567   \n",
              "BILL_AMT6                   0.016730   0.290389 -0.016733  -0.009099   \n",
              "PAY_AMT1                    0.009742   0.195236 -0.000242  -0.037456   \n",
              "PAY_AMT2                    0.008406   0.178408 -0.001391  -0.030038   \n",
              "PAY_AMT3                    0.039151   0.210167 -0.008597  -0.039943   \n",
              "PAY_AMT4                    0.007793   0.203242 -0.002229  -0.038218   \n",
              "PAY_AMT5                    0.000652   0.217202 -0.001667  -0.040358   \n",
              "PAY_AMT6                    0.003000   0.219595 -0.002766  -0.037200   \n",
              "default.payment.next.month -0.013952  -0.153520 -0.039961   0.028006   \n",
              "\n",
              "                            MARRIAGE       AGE     PAY_0     PAY_2     PAY_3  \\\n",
              "ID                         -0.029079  0.018678 -0.030575 -0.011215 -0.018494   \n",
              "LIMIT_BAL                  -0.108139  0.144713 -0.271214 -0.296382 -0.286123   \n",
              "SEX                        -0.031389 -0.090874 -0.057643 -0.070771 -0.066096   \n",
              "EDUCATION                  -0.143464  0.175061  0.105364  0.121566  0.114025   \n",
              "MARRIAGE                    1.000000 -0.414170  0.019917  0.024199  0.032688   \n",
              "AGE                        -0.414170  1.000000 -0.039447 -0.050148 -0.053048   \n",
              "PAY_0                       0.019917 -0.039447  1.000000  0.672164  0.574245   \n",
              "PAY_2                       0.024199 -0.050148  0.672164  1.000000  0.766552   \n",
              "PAY_3                       0.032688 -0.053048  0.574245  0.766552  1.000000   \n",
              "PAY_4                       0.033122 -0.049722  0.538841  0.662067  0.777359   \n",
              "PAY_5                       0.035629 -0.053826  0.509426  0.622780  0.686775   \n",
              "PAY_6                       0.034345 -0.048773  0.474553  0.575501  0.632684   \n",
              "BILL_AMT1                  -0.023472  0.056239  0.187068  0.234887  0.208473   \n",
              "BILL_AMT2                  -0.021602  0.054283  0.189859  0.235257  0.237295   \n",
              "BILL_AMT3                  -0.024909  0.053710  0.179785  0.224146  0.227494   \n",
              "BILL_AMT4                  -0.023344  0.051353  0.179125  0.222237  0.227202   \n",
              "BILL_AMT5                  -0.025393  0.049345  0.180635  0.221348  0.225145   \n",
              "BILL_AMT6                  -0.021207  0.047613  0.176980  0.219403  0.222327   \n",
              "PAY_AMT1                   -0.005979  0.026147 -0.079269 -0.080701  0.001295   \n",
              "PAY_AMT2                   -0.008093  0.021785 -0.070101 -0.058990 -0.066793   \n",
              "PAY_AMT3                   -0.003541  0.029247 -0.070561 -0.055901 -0.053311   \n",
              "PAY_AMT4                   -0.012659  0.021379 -0.064005 -0.046858 -0.046067   \n",
              "PAY_AMT5                   -0.001205  0.022850 -0.058190 -0.037093 -0.035863   \n",
              "PAY_AMT6                   -0.006641  0.019478 -0.058673 -0.036500 -0.035861   \n",
              "default.payment.next.month -0.024339  0.013890  0.324794  0.263551  0.235253   \n",
              "\n",
              "                               PAY_4     PAY_5     PAY_6  BILL_AMT1  \\\n",
              "ID                         -0.002735 -0.022199 -0.020270   0.019389   \n",
              "LIMIT_BAL                  -0.267460 -0.249411 -0.235195   0.285430   \n",
              "SEX                        -0.060173 -0.055064 -0.044008  -0.033642   \n",
              "EDUCATION                   0.108793  0.097520  0.082316   0.023581   \n",
              "MARRIAGE                    0.033122  0.035629  0.034345  -0.023472   \n",
              "AGE                        -0.049722 -0.053826 -0.048773   0.056239   \n",
              "PAY_0                       0.538841  0.509426  0.474553   0.187068   \n",
              "PAY_2                       0.662067  0.622780  0.575501   0.234887   \n",
              "PAY_3                       0.777359  0.686775  0.632684   0.208473   \n",
              "PAY_4                       1.000000  0.819835  0.716449   0.202812   \n",
              "PAY_5                       0.819835  1.000000  0.816900   0.206684   \n",
              "PAY_6                       0.716449  0.816900  1.000000   0.207373   \n",
              "BILL_AMT1                   0.202812  0.206684  0.207373   1.000000   \n",
              "BILL_AMT2                   0.225816  0.226913  0.226924   0.951484   \n",
              "BILL_AMT3                   0.244983  0.243335  0.241181   0.892279   \n",
              "BILL_AMT4                   0.245917  0.271915  0.266356   0.860272   \n",
              "BILL_AMT5                   0.242902  0.269783  0.290894   0.829779   \n",
              "BILL_AMT6                   0.239154  0.262509  0.285091   0.802650   \n",
              "PAY_AMT1                   -0.009362 -0.006089 -0.001496   0.140277   \n",
              "PAY_AMT2                   -0.001944 -0.003191 -0.005223   0.099355   \n",
              "PAY_AMT3                   -0.069235  0.009062  0.005834   0.156887   \n",
              "PAY_AMT4                   -0.043461 -0.058299  0.019018   0.158303   \n",
              "PAY_AMT5                   -0.033590 -0.033337 -0.046434   0.167026   \n",
              "PAY_AMT6                   -0.026565 -0.023027 -0.025299   0.179341   \n",
              "default.payment.next.month  0.216614  0.204149  0.186866  -0.019644   \n",
              "\n",
              "                            BILL_AMT2  BILL_AMT3  BILL_AMT4  BILL_AMT5  \\\n",
              "ID                           0.017982   0.024354   0.040351   0.016705   \n",
              "LIMIT_BAL                    0.278314   0.283236   0.293988   0.295562   \n",
              "SEX                         -0.031183  -0.024563  -0.021880  -0.017005   \n",
              "EDUCATION                    0.018749   0.013002  -0.000451  -0.007567   \n",
              "MARRIAGE                    -0.021602  -0.024909  -0.023344  -0.025393   \n",
              "AGE                          0.054283   0.053710   0.051353   0.049345   \n",
              "PAY_0                        0.189859   0.179785   0.179125   0.180635   \n",
              "PAY_2                        0.235257   0.224146   0.222237   0.221348   \n",
              "PAY_3                        0.237295   0.227494   0.227202   0.225145   \n",
              "PAY_4                        0.225816   0.244983   0.245917   0.242902   \n",
              "PAY_5                        0.226913   0.243335   0.271915   0.269783   \n",
              "PAY_6                        0.226924   0.241181   0.266356   0.290894   \n",
              "BILL_AMT1                    0.951484   0.892279   0.860272   0.829779   \n",
              "BILL_AMT2                    1.000000   0.928326   0.892482   0.859778   \n",
              "BILL_AMT3                    0.928326   1.000000   0.923969   0.883910   \n",
              "BILL_AMT4                    0.892482   0.923969   1.000000   0.940134   \n",
              "BILL_AMT5                    0.859778   0.883910   0.940134   1.000000   \n",
              "BILL_AMT6                    0.831594   0.853320   0.900941   0.946197   \n",
              "PAY_AMT1                     0.280365   0.244335   0.233012   0.217031   \n",
              "PAY_AMT2                     0.100851   0.316936   0.207564   0.181246   \n",
              "PAY_AMT3                     0.150718   0.130011   0.300023   0.252305   \n",
              "PAY_AMT4                     0.147398   0.143405   0.130191   0.293118   \n",
              "PAY_AMT5                     0.157957   0.179712   0.160433   0.141574   \n",
              "PAY_AMT6                     0.174256   0.182326   0.177637   0.164184   \n",
              "default.payment.next.month  -0.014193  -0.014076  -0.010156  -0.006760   \n",
              "\n",
              "                            BILL_AMT6  PAY_AMT1  PAY_AMT2  PAY_AMT3  PAY_AMT4  \\\n",
              "ID                           0.016730  0.009742  0.008406  0.039151  0.007793   \n",
              "LIMIT_BAL                    0.290389  0.195236  0.178408  0.210167  0.203242   \n",
              "SEX                         -0.016733 -0.000242 -0.001391 -0.008597 -0.002229   \n",
              "EDUCATION                   -0.009099 -0.037456 -0.030038 -0.039943 -0.038218   \n",
              "MARRIAGE                    -0.021207 -0.005979 -0.008093 -0.003541 -0.012659   \n",
              "AGE                          0.047613  0.026147  0.021785  0.029247  0.021379   \n",
              "PAY_0                        0.176980 -0.079269 -0.070101 -0.070561 -0.064005   \n",
              "PAY_2                        0.219403 -0.080701 -0.058990 -0.055901 -0.046858   \n",
              "PAY_3                        0.222327  0.001295 -0.066793 -0.053311 -0.046067   \n",
              "PAY_4                        0.239154 -0.009362 -0.001944 -0.069235 -0.043461   \n",
              "PAY_5                        0.262509 -0.006089 -0.003191  0.009062 -0.058299   \n",
              "PAY_6                        0.285091 -0.001496 -0.005223  0.005834  0.019018   \n",
              "BILL_AMT1                    0.802650  0.140277  0.099355  0.156887  0.158303   \n",
              "BILL_AMT2                    0.831594  0.280365  0.100851  0.150718  0.147398   \n",
              "BILL_AMT3                    0.853320  0.244335  0.316936  0.130011  0.143405   \n",
              "BILL_AMT4                    0.900941  0.233012  0.207564  0.300023  0.130191   \n",
              "BILL_AMT5                    0.946197  0.217031  0.181246  0.252305  0.293118   \n",
              "BILL_AMT6                    1.000000  0.199965  0.172663  0.233770  0.250237   \n",
              "PAY_AMT1                     0.199965  1.000000  0.285576  0.252191  0.199558   \n",
              "PAY_AMT2                     0.172663  0.285576  1.000000  0.244770  0.180107   \n",
              "PAY_AMT3                     0.233770  0.252191  0.244770  1.000000  0.216325   \n",
              "PAY_AMT4                     0.250237  0.199558  0.180107  0.216325  1.000000   \n",
              "PAY_AMT5                     0.307729  0.148459  0.180908  0.159214  0.151830   \n",
              "PAY_AMT6                     0.115494  0.185735  0.157634  0.162740  0.157834   \n",
              "default.payment.next.month  -0.005372 -0.072929 -0.058579 -0.056250 -0.056827   \n",
              "\n",
              "                            PAY_AMT5  PAY_AMT6  default.payment.next.month  \n",
              "ID                          0.000652  0.003000                   -0.013952  \n",
              "LIMIT_BAL                   0.217202  0.219595                   -0.153520  \n",
              "SEX                        -0.001667 -0.002766                   -0.039961  \n",
              "EDUCATION                  -0.040358 -0.037200                    0.028006  \n",
              "MARRIAGE                   -0.001205 -0.006641                   -0.024339  \n",
              "AGE                         0.022850  0.019478                    0.013890  \n",
              "PAY_0                      -0.058190 -0.058673                    0.324794  \n",
              "PAY_2                      -0.037093 -0.036500                    0.263551  \n",
              "PAY_3                      -0.035863 -0.035861                    0.235253  \n",
              "PAY_4                      -0.033590 -0.026565                    0.216614  \n",
              "PAY_5                      -0.033337 -0.023027                    0.204149  \n",
              "PAY_6                      -0.046434 -0.025299                    0.186866  \n",
              "BILL_AMT1                   0.167026  0.179341                   -0.019644  \n",
              "BILL_AMT2                   0.157957  0.174256                   -0.014193  \n",
              "BILL_AMT3                   0.179712  0.182326                   -0.014076  \n",
              "BILL_AMT4                   0.160433  0.177637                   -0.010156  \n",
              "BILL_AMT5                   0.141574  0.164184                   -0.006760  \n",
              "BILL_AMT6                   0.307729  0.115494                   -0.005372  \n",
              "PAY_AMT1                    0.148459  0.185735                   -0.072929  \n",
              "PAY_AMT2                    0.180908  0.157634                   -0.058579  \n",
              "PAY_AMT3                    0.159214  0.162740                   -0.056250  \n",
              "PAY_AMT4                    0.151830  0.157834                   -0.056827  \n",
              "PAY_AMT5                    1.000000  0.154896                   -0.055124  \n",
              "PAY_AMT6                    0.154896  1.000000                   -0.053183  \n",
              "default.payment.next.month -0.055124 -0.053183                    1.000000  "
            ]
          },
          "execution_count": 7,
          "metadata": {},
          "output_type": "execute_result"
        }
      ],
      "source": [
        "df.corr()"
      ]
    },
    {
      "attachments": {},
      "cell_type": "markdown",
      "metadata": {
        "id": "JLXPskKwC_Tl"
      },
      "source": [
        "#Feature engineering"
      ]
    },
    {
      "cell_type": "code",
      "execution_count": 8,
      "metadata": {
        "colab": {
          "base_uri": "https://localhost:8080/"
        },
        "id": "RO0ARcds-MVB",
        "outputId": "18d03d44-7e6b-42a6-9573-8f4dddeb79d0"
      },
      "outputs": [
        {
          "data": {
            "text/plain": [
              "ID                            30000\n",
              "LIMIT_BAL                        81\n",
              "SEX                               2\n",
              "EDUCATION                         7\n",
              "MARRIAGE                          4\n",
              "AGE                              56\n",
              "PAY_0                            11\n",
              "PAY_2                            11\n",
              "PAY_3                            11\n",
              "PAY_4                            11\n",
              "PAY_5                            10\n",
              "PAY_6                            10\n",
              "BILL_AMT1                     22723\n",
              "BILL_AMT2                     22346\n",
              "BILL_AMT3                     22026\n",
              "BILL_AMT4                     21548\n",
              "BILL_AMT5                     21010\n",
              "BILL_AMT6                     20604\n",
              "PAY_AMT1                       7943\n",
              "PAY_AMT2                       7899\n",
              "PAY_AMT3                       7518\n",
              "PAY_AMT4                       6937\n",
              "PAY_AMT5                       6897\n",
              "PAY_AMT6                       6939\n",
              "default.payment.next.month        2\n",
              "dtype: int64"
            ]
          },
          "execution_count": 8,
          "metadata": {},
          "output_type": "execute_result"
        }
      ],
      "source": [
        "df.nunique()"
      ]
    },
    {
      "attachments": {},
      "cell_type": "markdown",
      "metadata": {
        "id": "3hm6nZV4jI4b"
      },
      "source": [
        "##Баланс количества записей по целевой переменной"
      ]
    },
    {
      "cell_type": "code",
      "execution_count": 9,
      "metadata": {
        "colab": {
          "base_uri": "https://localhost:8080/",
          "height": 425
        },
        "id": "U2Rpcpani5Xe",
        "outputId": "5d0f2d86-1149-469c-e364-81b3b0d565e1"
      },
      "outputs": [
        {
          "data": {
            "image/png": "[encoded data removed]",
            "text/plain": [
              "<Figure size 640x480 with 1 Axes>"
            ]
          },
          "metadata": {},
          "output_type": "display_data"
        }
      ],
      "source": [
        "default = df['default.payment.next.month'].value_counts()\n",
        "ax = default.plot.bar()"
      ]
    },
    {
      "attachments": {},
      "cell_type": "markdown",
      "metadata": {
        "id": "_IDw9tNIjNvv"
      },
      "source": [
        "**Значительный дисбаланс в сторону отсутствия дефолта платежа в следующем месяце**"
      ]
    },
    {
      "attachments": {},
      "cell_type": "markdown",
      "metadata": {
        "id": "iCl53KfBD2t_"
      },
      "source": [
        "##Баланс количества записей по полу нормальный"
      ]
    },
    {
      "cell_type": "code",
      "execution_count": 10,
      "metadata": {
        "colab": {
          "base_uri": "https://localhost:8080/",
          "height": 447
        },
        "id": "L9ESwOOnBiFK",
        "outputId": "25b64068-673a-4db4-9b8b-c63e76c97338"
      },
      "outputs": [
        {
          "data": {
            "image/png": "[encoded data removed]",
            "text/plain": [
              "<Figure size 640x480 with 1 Axes>"
            ]
          },
          "metadata": {},
          "output_type": "display_data"
        }
      ],
      "source": [
        "sex = df['SEX'].map({1: 'муж', 2: 'жен'}).value_counts()\n",
        "ax = sex.plot.bar()"
      ]
    },
    {
      "attachments": {},
      "cell_type": "markdown",
      "metadata": {
        "id": "lWQSjy7YEZTM"
      },
      "source": [
        "**Баланс нормальный**"
      ]
    },
    {
      "attachments": {},
      "cell_type": "markdown",
      "metadata": {
        "id": "RFTOi4-DEO3Q"
      },
      "source": [
        "##Баланс количества записей по ступени обучения"
      ]
    },
    {
      "cell_type": "code",
      "execution_count": 11,
      "metadata": {
        "colab": {
          "base_uri": "https://localhost:8080/"
        },
        "id": "ils20hH7CM56",
        "outputId": "df3c0125-3e6c-48df-db6a-cc415a51d80b"
      },
      "outputs": [
        {
          "data": {
            "text/plain": [
              "2    14030\n",
              "1    10585\n",
              "3     4917\n",
              "5      280\n",
              "4      123\n",
              "6       51\n",
              "0       14\n",
              "Name: EDUCATION, dtype: int64"
            ]
          },
          "execution_count": 11,
          "metadata": {},
          "output_type": "execute_result"
        }
      ],
      "source": [
        "df['EDUCATION'].value_counts()"
      ]
    },
    {
      "attachments": {},
      "cell_type": "markdown",
      "metadata": {
        "id": "xkJeTiBAEf60"
      },
      "source": [
        "**Наличие лишнего класса (расхождение с ТЗ)**"
      ]
    },
    {
      "cell_type": "code",
      "execution_count": 12,
      "metadata": {
        "id": "ncrvfCacErmD"
      },
      "outputs": [],
      "source": [
        "df = df.drop(df[df.EDUCATION == 0].index)"
      ]
    },
    {
      "attachments": {},
      "cell_type": "markdown",
      "metadata": {
        "id": "WWrNahsMH-Zm"
      },
      "source": [
        "**Ступение обучения под кодами 5 и 6 имеют один смысл, поэтому объединим их**"
      ]
    },
    {
      "cell_type": "code",
      "execution_count": 13,
      "metadata": {
        "id": "1ewx48PTIHbL"
      },
      "outputs": [],
      "source": [
        "df['EDUCATION'] = df['EDUCATION'].map({1: 1, 2: 2, 3: 3, 4: 4, 5: 5, 6: 5})"
      ]
    },
    {
      "cell_type": "code",
      "execution_count": 14,
      "metadata": {
        "colab": {
          "base_uri": "https://localhost:8080/",
          "height": 528
        },
        "id": "yjbMKXn9FTSU",
        "outputId": "eb1f06ee-a47b-42dd-c959-021a02346452"
      },
      "outputs": [
        {
          "data": {
            "image/png": "[encoded data removed]",
            "text/plain": [
              "<Figure size 640x480 with 1 Axes>"
            ]
          },
          "metadata": {},
          "output_type": "display_data"
        }
      ],
      "source": [
        "education = df['EDUCATION'].map({1: 'аспирантура', 2: 'университет', 3: 'средняя школа', 4: 'другие', 5: 'неизвестно'}).value_counts()\n",
        "ax = education.plot.bar()"
      ]
    },
    {
      "attachments": {},
      "cell_type": "markdown",
      "metadata": {
        "id": "PCWBS7zCI9Dv"
      },
      "source": [
        "**Баланс очень плохой, возможно стоит объединить \"неизвестно\" и \"другие\" или же убрать их**"
      ]
    },
    {
      "cell_type": "code",
      "execution_count": 15,
      "metadata": {
        "id": "uXe7XmCJr8jc"
      },
      "outputs": [],
      "source": [
        "df = df.drop(df[df.EDUCATION.isin([4, 5])].index)"
      ]
    },
    {
      "attachments": {},
      "cell_type": "markdown",
      "metadata": {
        "id": "v6v2r-XPJEV1"
      },
      "source": [
        "##Баланс количества записей по семейному положению"
      ]
    },
    {
      "cell_type": "code",
      "execution_count": 16,
      "metadata": {
        "colab": {
          "base_uri": "https://localhost:8080/"
        },
        "id": "IavTgIBVCfKc",
        "outputId": "90f89619-2cd6-4a20-de30-9c71453bf38a"
      },
      "outputs": [
        {
          "data": {
            "text/plain": [
              "2    15738\n",
              "1    13425\n",
              "3      315\n",
              "0       54\n",
              "Name: MARRIAGE, dtype: int64"
            ]
          },
          "execution_count": 16,
          "metadata": {},
          "output_type": "execute_result"
        }
      ],
      "source": [
        "df['MARRIAGE'].value_counts()"
      ]
    },
    {
      "attachments": {},
      "cell_type": "markdown",
      "metadata": {
        "id": "8b7nc0lrJNBJ"
      },
      "source": [
        "**Снова расхождение количества классов и ТЗ**"
      ]
    },
    {
      "cell_type": "code",
      "execution_count": 17,
      "metadata": {
        "id": "eGjveR7IJQV-"
      },
      "outputs": [],
      "source": [
        "df = df.drop(df[df.MARRIAGE == 0].index)"
      ]
    },
    {
      "cell_type": "code",
      "execution_count": 18,
      "metadata": {
        "colab": {
          "base_uri": "https://localhost:8080/",
          "height": 468
        },
        "id": "YMXOJkWbJVOv",
        "outputId": "8b16bb72-f1a9-4675-a978-87d95428d01d"
      },
      "outputs": [
        {
          "data": {
            "image/png": "[encoded data removed]",
            "text/plain": [
              "<Figure size 640x480 with 1 Axes>"
            ]
          },
          "metadata": {},
          "output_type": "display_data"
        }
      ],
      "source": [
        "marriage = df['MARRIAGE'].map({1: 'женат', 2: 'холост', 3: 'другие'}).value_counts()\n",
        "ax = marriage.plot.bar()"
      ]
    },
    {
      "attachments": {},
      "cell_type": "markdown",
      "metadata": {
        "id": "GgB5fw9AJq52"
      },
      "source": [
        "**Хороший баланс относительно \"холост\" и \"женат\", но \"другие возможно стоит убрать**"
      ]
    },
    {
      "cell_type": "code",
      "execution_count": 19,
      "metadata": {
        "id": "rVTtDvJOsnZK"
      },
      "outputs": [],
      "source": [
        "df = df.drop(df[df.MARRIAGE == 3].index)"
      ]
    },
    {
      "attachments": {},
      "cell_type": "markdown",
      "metadata": {
        "id": "JmvcNYQbKJ2l"
      },
      "source": [
        "##Рассмотрим возраста"
      ]
    },
    {
      "cell_type": "code",
      "execution_count": 20,
      "metadata": {
        "colab": {
          "base_uri": "https://localhost:8080/",
          "height": 526
        },
        "id": "MdZsqJ8zKuDn",
        "outputId": "a06781a2-03c7-4d73-b608-e7ee06e83ba4"
      },
      "outputs": [
        {
          "data": {
            "image/png": "[encoded data removed]",
            "text/plain": [
              "<Figure size 800x600 with 1 Axes>"
            ]
          },
          "metadata": {},
          "output_type": "display_data"
        }
      ],
      "source": [
        "age = df['AGE'].value_counts()\n",
        "ax = age.plot.bar(figsize=(8,6))"
      ]
    },
    {
      "cell_type": "code",
      "execution_count": 21,
      "metadata": {
        "colab": {
          "base_uri": "https://localhost:8080/"
        },
        "id": "jw5UAEnjKW4P",
        "outputId": "2e7beb82-a74e-4f8e-a285-6b9828cf6b0d"
      },
      "outputs": [
        {
          "data": {
            "text/plain": [
              "count    29163.000000\n",
              "mean        35.390563\n",
              "std          9.181333\n",
              "min         21.000000\n",
              "25%         28.000000\n",
              "50%         34.000000\n",
              "75%         41.000000\n",
              "max         79.000000\n",
              "Name: AGE, dtype: float64"
            ]
          },
          "execution_count": 21,
          "metadata": {},
          "output_type": "execute_result"
        }
      ],
      "source": [
        "df['AGE'].describe()"
      ]
    },
    {
      "attachments": {},
      "cell_type": "markdown",
      "metadata": {
        "id": "vHX4Mb-JNt6r"
      },
      "source": [
        "**Поскольку записи крайне не сбалансированы относительно возраста, стоит объединить возраста в группы**"
      ]
    },
    {
      "cell_type": "code",
      "execution_count": 22,
      "metadata": {
        "colab": {
          "base_uri": "https://localhost:8080/"
        },
        "id": "UIdJxkhJKN6d",
        "outputId": "bc4c6be7-506f-4014-930c-62f56c1b18df"
      },
      "outputs": [
        {
          "data": {
            "text/plain": [
              "2    10981\n",
              "1     6803\n",
              "3     6197\n",
              "0     2632\n",
              "4     2550\n",
              "Name: AGE, dtype: int64"
            ]
          },
          "execution_count": 22,
          "metadata": {},
          "output_type": "execute_result"
        }
      ],
      "source": [
        "conditions = [\n",
        "    (df['AGE'] < 25),\n",
        "    (df['AGE'] >= 25) & (df['AGE'] < 30),\n",
        "    (df['AGE'] >= 30) & (df['AGE'] < 40),\n",
        "    (df['AGE'] >= 40) & (df['AGE'] < 50),\n",
        "    (df['AGE'] >= 50)\n",
        "]\n",
        "\n",
        "choices = [0, 1, 2, 3, 4]\n",
        "\n",
        "df['AGE'] = np.select(conditions, choices)\n",
        "df['AGE'].value_counts()"
      ]
    },
    {
      "cell_type": "code",
      "execution_count": 23,
      "metadata": {
        "colab": {
          "base_uri": "https://localhost:8080/",
          "height": 549
        },
        "id": "al1WN5EmQXvu",
        "outputId": "8791120a-241c-40b7-c572-74943b6e9b75"
      },
      "outputs": [
        {
          "data": {
            "image/png": "[encoded data removed]",
            "text/plain": [
              "<Figure size 800x600 with 1 Axes>"
            ]
          },
          "metadata": {},
          "output_type": "display_data"
        }
      ],
      "source": [
        "age = df['AGE'].map({0: 'До 25', 1: '25-30', 2: '30-40', 3: '40-50', 4: '50+'}).value_counts()\n",
        "ax = age.plot.bar(figsize=(8,6))"
      ]
    },
    {
      "attachments": {},
      "cell_type": "markdown",
      "metadata": {
        "id": "otP6sQv-QciA"
      },
      "source": [
        "**Так выглядит лучше :)**"
      ]
    },
    {
      "attachments": {},
      "cell_type": "markdown",
      "metadata": {
        "id": "_-ieNG0JaVBc"
      },
      "source": [
        "##Рассмотрим статус погашения"
      ]
    },
    {
      "cell_type": "code",
      "execution_count": 24,
      "metadata": {
        "colab": {
          "base_uri": "https://localhost:8080/"
        },
        "id": "mZAU9U9ka1IC",
        "outputId": "b4cd7422-6965-44ea-b421-15272c0abc72"
      },
      "outputs": [
        {
          "data": {
            "text/plain": [
              "PAY_0    11\n",
              "PAY_2    11\n",
              "PAY_3    11\n",
              "PAY_4    11\n",
              "PAY_5    10\n",
              "PAY_6    10\n",
              "dtype: int64"
            ]
          },
          "execution_count": 24,
          "metadata": {},
          "output_type": "execute_result"
        }
      ],
      "source": [
        "df[['PAY_0', 'PAY_2', 'PAY_3', 'PAY_4', 'PAY_5', 'PAY_6']].nunique()"
      ]
    },
    {
      "cell_type": "code",
      "execution_count": 25,
      "metadata": {
        "colab": {
          "base_uri": "https://localhost:8080/",
          "height": 308
        },
        "id": "TrjQpgjCbq5F",
        "outputId": "75f370b2-baf1-4b59-ac93-dfd87cde8bed"
      },
      "outputs": [
        {
          "data": {
            "text/plain": [
              "<Axes: >"
            ]
          },
          "execution_count": 25,
          "metadata": {},
          "output_type": "execute_result"
        },
        {
          "data": {
            "image/png": "[encoded data removed]",
            "text/plain": [
              "<Figure size 300x300 with 1 Axes>"
            ]
          },
          "metadata": {},
          "output_type": "display_data"
        }
      ],
      "source": [
        "df['PAY_0'].value_counts().plot.bar(figsize=(3,3))"
      ]
    },
    {
      "cell_type": "code",
      "execution_count": 26,
      "metadata": {
        "colab": {
          "base_uri": "https://localhost:8080/",
          "height": 308
        },
        "id": "TJ9BQgFycetv",
        "outputId": "3a7d3baa-0185-409a-fc1a-0b67e2f3ef0a"
      },
      "outputs": [
        {
          "data": {
            "text/plain": [
              "<Axes: >"
            ]
          },
          "execution_count": 26,
          "metadata": {},
          "output_type": "execute_result"
        },
        {
          "data": {
            "image/png": "[encoded data removed]",
            "text/plain": [
              "<Figure size 300x300 with 1 Axes>"
            ]
          },
          "metadata": {},
          "output_type": "display_data"
        }
      ],
      "source": [
        "df['PAY_2'].value_counts().plot.bar(figsize=(3,3))"
      ]
    },
    {
      "cell_type": "code",
      "execution_count": 27,
      "metadata": {
        "colab": {
          "base_uri": "https://localhost:8080/",
          "height": 308
        },
        "id": "J0KJ-gafce6k",
        "outputId": "cf433147-0fa2-40a2-972d-8b5aac00fda5"
      },
      "outputs": [
        {
          "data": {
            "text/plain": [
              "<Axes: >"
            ]
          },
          "execution_count": 27,
          "metadata": {},
          "output_type": "execute_result"
        },
        {
          "data": {
            "image/png": "[encoded data removed]",
            "text/plain": [
              "<Figure size 300x300 with 1 Axes>"
            ]
          },
          "metadata": {},
          "output_type": "display_data"
        }
      ],
      "source": [
        "df['PAY_3'].value_counts().plot.bar(figsize=(3,3))"
      ]
    },
    {
      "cell_type": "code",
      "execution_count": 28,
      "metadata": {
        "colab": {
          "base_uri": "https://localhost:8080/",
          "height": 308
        },
        "id": "G88tOrnjcfAq",
        "outputId": "36cac864-3518-4a39-ec8c-38a3e6acd771"
      },
      "outputs": [
        {
          "data": {
            "text/plain": [
              "<Axes: >"
            ]
          },
          "execution_count": 28,
          "metadata": {},
          "output_type": "execute_result"
        },
        {
          "data": {
            "image/png": "[encoded data removed]",
            "text/plain": [
              "<Figure size 300x300 with 1 Axes>"
            ]
          },
          "metadata": {},
          "output_type": "display_data"
        }
      ],
      "source": [
        "df['PAY_4'].value_counts().plot.bar(figsize=(3,3))"
      ]
    },
    {
      "cell_type": "code",
      "execution_count": 29,
      "metadata": {
        "colab": {
          "base_uri": "https://localhost:8080/",
          "height": 308
        },
        "id": "1AHs8z6Pb4Oh",
        "outputId": "e83230eb-ccfd-495e-916b-516c574d9531"
      },
      "outputs": [
        {
          "data": {
            "text/plain": [
              "<Axes: >"
            ]
          },
          "execution_count": 29,
          "metadata": {},
          "output_type": "execute_result"
        },
        {
          "data": {
            "image/png": "[encoded data removed]",
            "text/plain": [
              "<Figure size 300x300 with 1 Axes>"
            ]
          },
          "metadata": {},
          "output_type": "display_data"
        }
      ],
      "source": [
        "df['PAY_5'].value_counts().plot.bar(figsize=(3,3))"
      ]
    },
    {
      "cell_type": "code",
      "execution_count": 30,
      "metadata": {
        "colab": {
          "base_uri": "https://localhost:8080/",
          "height": 308
        },
        "id": "Ve1qB3bdcjCy",
        "outputId": "a69550d8-a6cd-4c85-c068-bfaec2594626"
      },
      "outputs": [
        {
          "data": {
            "text/plain": [
              "<Axes: >"
            ]
          },
          "execution_count": 30,
          "metadata": {},
          "output_type": "execute_result"
        },
        {
          "data": {
            "image/png": "[encoded data removed]",
            "text/plain": [
              "<Figure size 300x300 with 1 Axes>"
            ]
          },
          "metadata": {},
          "output_type": "display_data"
        }
      ],
      "source": [
        "df['PAY_6'].value_counts().plot.bar(figsize=(3,3))"
      ]
    },
    {
      "attachments": {},
      "cell_type": "markdown",
      "metadata": {
        "id": "QXok0QI3k0L5"
      },
      "source": [
        "**Имеются две переменные не указанные в ТЗ, такие как: 0 и -2. Поскольку кол-во записей там крайне большое, необходимо выяснить означают они задержку или же нет. Также стоит отметить очень плохой баланс классов, думаю, стоит разделить их на своевременную выплату и выплату с задержкой**"
      ]
    },
    {
      "attachments": {},
      "cell_type": "markdown",
      "metadata": {
        "id": "ug2UBk3ZmdKx"
      },
      "source": [
        "**Поскольку нам известно, что -1 является своевременной выплатой, которая, в теории, ведет к отсутствию дефолта платежа, то будем считать, что если во всех PAY указан своевременный платеж, то целевая переменная должна быть 0, что будет подтверждаться бОльшим кол-вом записей.**"
      ]
    },
    {
      "cell_type": "code",
      "execution_count": 31,
      "metadata": {
        "colab": {
          "base_uri": "https://localhost:8080/"
        },
        "id": "myqsppj9fNpM",
        "outputId": "239bfb70-c8bb-4ed3-e530-470332466b98"
      },
      "outputs": [
        {
          "data": {
            "text/plain": [
              "0    1674\n",
              "1     284\n",
              "Name: default.payment.next.month, dtype: int64"
            ]
          },
          "execution_count": 31,
          "metadata": {},
          "output_type": "execute_result"
        }
      ],
      "source": [
        "df['default.payment.next.month'][(df.PAY_0 == -1) & (df.PAY_2 == -1) & (df.PAY_3 == -1) & (df.PAY_4 == -1) & (df.PAY_5 == -1) & (df.PAY_6 == -1)].value_counts()"
      ]
    },
    {
      "attachments": {},
      "cell_type": "markdown",
      "metadata": {
        "id": "-N1Jy9zgoSt_"
      },
      "source": [
        "**Как мы видем из примера со значением -1 теория, в целом, верна. Теперь проверим неизвестные переменные**"
      ]
    },
    {
      "cell_type": "code",
      "execution_count": 32,
      "metadata": {
        "colab": {
          "base_uri": "https://localhost:8080/"
        },
        "id": "C5lICknhe6cR",
        "outputId": "47054e9f-b6e7-40ce-dff8-22f461c1ec01"
      },
      "outputs": [
        {
          "data": {
            "text/plain": [
              "0    8507\n",
              "1     990\n",
              "Name: default.payment.next.month, dtype: int64"
            ]
          },
          "execution_count": 32,
          "metadata": {},
          "output_type": "execute_result"
        }
      ],
      "source": [
        "df['default.payment.next.month'][(df.PAY_0 == 0) & (df.PAY_2 == 0) & (df.PAY_3 == 0) & (df.PAY_4 == 0) & (df.PAY_5 == 0) & (df.PAY_6 == 0)].value_counts()"
      ]
    },
    {
      "attachments": {},
      "cell_type": "markdown",
      "metadata": {
        "id": "vSHDmO-DorQZ"
      },
      "source": [
        "**0 однозначно является своевременным платежем**"
      ]
    },
    {
      "cell_type": "code",
      "execution_count": 33,
      "metadata": {
        "colab": {
          "base_uri": "https://localhost:8080/"
        },
        "id": "rYoULNf7f_ac",
        "outputId": "4d65046f-d819-4b27-f8cc-7b664bbc14d4"
      },
      "outputs": [
        {
          "data": {
            "text/plain": [
              "0    1763\n",
              "1     277\n",
              "Name: default.payment.next.month, dtype: int64"
            ]
          },
          "execution_count": 33,
          "metadata": {},
          "output_type": "execute_result"
        }
      ],
      "source": [
        "df['default.payment.next.month'][(df.PAY_0 == -2) & (df.PAY_2 == -2) & (df.PAY_3 == -2) & (df.PAY_4 == -2) & (df.PAY_5 == -2) & (df.PAY_6 == -2)].value_counts()"
      ]
    },
    {
      "attachments": {},
      "cell_type": "markdown",
      "metadata": {
        "id": "qcRCge8roxdH"
      },
      "source": [
        "**-2 тоже является своевременным платежем**"
      ]
    },
    {
      "cell_type": "code",
      "execution_count": 34,
      "metadata": {
        "colab": {
          "base_uri": "https://localhost:8080/"
        },
        "id": "ZHLLNzGigRFT",
        "outputId": "a3fcdd24-c73d-4ec3-88da-db876083971c"
      },
      "outputs": [
        {
          "data": {
            "text/plain": [
              "0    17030\n",
              "1     2275\n",
              "Name: default.payment.next.month, dtype: int64"
            ]
          },
          "execution_count": 34,
          "metadata": {},
          "output_type": "execute_result"
        }
      ],
      "source": [
        "df['default.payment.next.month'][(df.PAY_0.isin([0, -1, -2])) & (df.PAY_2.isin([0, -1, -2])) & (df.PAY_3.isin([0, -1, -2])) & (df.PAY_4.isin([0, -1, -2])) & (df.PAY_5.isin([0, -1, -2])) & (df.PAY_6.isin([0, -1, -2]))].value_counts()"
      ]
    },
    {
      "attachments": {},
      "cell_type": "markdown",
      "metadata": {
        "id": "aedB6-hso1JT"
      },
      "source": [
        "**Пойдем от обратного и подтвердим эту теорию**"
      ]
    },
    {
      "cell_type": "code",
      "execution_count": 35,
      "metadata": {
        "colab": {
          "base_uri": "https://localhost:8080/"
        },
        "id": "cb7Stkehhreu",
        "outputId": "edc18fcf-1104-4075-d58f-fe3734d0ed8b"
      },
      "outputs": [
        {
          "data": {
            "text/plain": [
              "1    929\n",
              "0    389\n",
              "Name: default.payment.next.month, dtype: int64"
            ]
          },
          "execution_count": 35,
          "metadata": {},
          "output_type": "execute_result"
        }
      ],
      "source": [
        "df['default.payment.next.month'][(~df.PAY_0.isin([0, -1, -2])) & (~df.PAY_2.isin([0, -1, -2])) & (~df.PAY_3.isin([0, -1, -2])) & (~df.PAY_4.isin([0, -1, -2])) & (~df.PAY_5.isin([0, -1, -2])) & (~df.PAY_6.isin([0, -1, -2]))].value_counts()"
      ]
    },
    {
      "attachments": {},
      "cell_type": "markdown",
      "metadata": {
        "id": "bU-4Cxieo6y4"
      },
      "source": [
        "**Да, в целом, все выглядит валидно, поэтому объединим 0, -1, -2 в своевременный платеж (0), а все остальные в платеж с задержкой (1)**"
      ]
    },
    {
      "cell_type": "code",
      "execution_count": 36,
      "metadata": {
        "colab": {
          "base_uri": "https://localhost:8080/",
          "height": 112
        },
        "id": "Ag8003UYpsQN",
        "outputId": "b51fdd11-a2f7-4c2e-98fa-649376049f69"
      },
      "outputs": [
        {
          "data": {
            "text/html": [
              "\n",
              "  <div id=\"df-364719b1-bf74-4227-89b0-88bdc5bf3e19\">\n",
              "    <div class=\"colab-df-container\">\n",
              "      <div>\n",
              "<style scoped>\n",
              "    .dataframe tbody tr th:only-of-type {\n",
              "        vertical-align: middle;\n",
              "    }\n",
              "\n",
              "    .dataframe tbody tr th {\n",
              "        vertical-align: top;\n",
              "    }\n",
              "\n",
              "    .dataframe thead th {\n",
              "        text-align: right;\n",
              "    }\n",
              "</style>\n",
              "<table border=\"1\" class=\"dataframe\">\n",
              "  <thead>\n",
              "    <tr style=\"text-align: right;\">\n",
              "      <th></th>\n",
              "      <th>PAY_0</th>\n",
              "      <th>PAY_2</th>\n",
              "      <th>PAY_3</th>\n",
              "      <th>PAY_4</th>\n",
              "      <th>PAY_5</th>\n",
              "      <th>PAY_6</th>\n",
              "    </tr>\n",
              "  </thead>\n",
              "  <tbody>\n",
              "    <tr>\n",
              "      <th>0</th>\n",
              "      <td>22498</td>\n",
              "      <td>24799</td>\n",
              "      <td>25020</td>\n",
              "      <td>25711</td>\n",
              "      <td>26231</td>\n",
              "      <td>26131</td>\n",
              "    </tr>\n",
              "    <tr>\n",
              "      <th>1</th>\n",
              "      <td>6665</td>\n",
              "      <td>4364</td>\n",
              "      <td>4143</td>\n",
              "      <td>3452</td>\n",
              "      <td>2932</td>\n",
              "      <td>3032</td>\n",
              "    </tr>\n",
              "  </tbody>\n",
              "</table>\n",
              "</div>\n",
              "      <button class=\"colab-df-convert\" onclick=\"convertToInteractive('df-364719b1-bf74-4227-89b0-88bdc5bf3e19')\"\n",
              "              title=\"Convert this dataframe to an interactive table.\"\n",
              "              style=\"display:none;\">\n",
              "        \n",
              "  <svg xmlns=\"http://www.w3.org/2000/svg\" height=\"24px\"viewBox=\"0 0 24 24\"\n",
              "       width=\"24px\">\n",
              "    <path d=\"M0 0h24v24H0V0z\" fill=\"none\"/>\n",
              "    <path d=\"M18.56 5.44l.94 2.06.94-2.06 2.06-.94-2.06-.94-.94-2.06-.94 2.06-2.06.94zm-11 1L8.5 8.5l.94-2.06 2.06-.94-2.06-.94L8.5 2.5l-.94 2.06-2.06.94zm10 10l.94 2.06.94-2.06 2.06-.94-2.06-.94-.94-2.06-.94 2.06-2.06.94z\"/><path d=\"M17.41 7.96l-1.37-1.37c-.4-.4-.92-.59-1.43-.59-.52 0-1.04.2-1.43.59L10.3 9.45l-7.72 7.72c-.78.78-.78 2.05 0 2.83L4 21.41c.39.39.9.59 1.41.59.51 0 1.02-.2 1.41-.59l7.78-7.78 2.81-2.81c.8-.78.8-2.07 0-2.86zM5.41 20L4 18.59l7.72-7.72 1.47 1.35L5.41 20z\"/>\n",
              "  </svg>\n",
              "      </button>\n",
              "      \n",
              "  <style>\n",
              "    .colab-df-container {\n",
              "      display:flex;\n",
              "      flex-wrap:wrap;\n",
              "      gap: 12px;\n",
              "    }\n",
              "\n",
              "    .colab-df-convert {\n",
              "      background-color: #E8F0FE;\n",
              "      border: none;\n",
              "      border-radius: 50%;\n",
              "      cursor: pointer;\n",
              "      display: none;\n",
              "      fill: #1967D2;\n",
              "      height: 32px;\n",
              "      padding: 0 0 0 0;\n",
              "      width: 32px;\n",
              "    }\n",
              "\n",
              "    .colab-df-convert:hover {\n",
              "      background-color: #E2EBFA;\n",
              "      box-shadow: 0px 1px 2px rgba(60, 64, 67, 0.3), 0px 1px 3px 1px rgba(60, 64, 67, 0.15);\n",
              "      fill: #174EA6;\n",
              "    }\n",
              "\n",
              "    [theme=dark] .colab-df-convert {\n",
              "      background-color: #3B4455;\n",
              "      fill: #D2E3FC;\n",
              "    }\n",
              "\n",
              "    [theme=dark] .colab-df-convert:hover {\n",
              "      background-color: #434B5C;\n",
              "      box-shadow: 0px 1px 3px 1px rgba(0, 0, 0, 0.15);\n",
              "      filter: drop-shadow(0px 1px 2px rgba(0, 0, 0, 0.3));\n",
              "      fill: #FFFFFF;\n",
              "    }\n",
              "  </style>\n",
              "\n",
              "      <script>\n",
              "        const buttonEl =\n",
              "          document.querySelector('#df-364719b1-bf74-4227-89b0-88bdc5bf3e19 button.colab-df-convert');\n",
              "        buttonEl.style.display =\n",
              "          google.colab.kernel.accessAllowed ? 'block' : 'none';\n",
              "\n",
              "        async function convertToInteractive(key) {\n",
              "          const element = document.querySelector('#df-364719b1-bf74-4227-89b0-88bdc5bf3e19');\n",
              "          const dataTable =\n",
              "            await google.colab.kernel.invokeFunction('convertToInteractive',\n",
              "                                                     [key], {});\n",
              "          if (!dataTable) return;\n",
              "\n",
              "          const docLinkHtml = 'Like what you see? Visit the ' +\n",
              "            '<a target=\"_blank\" href=https://colab.research.google.com/notebooks/data_table.ipynb>data table notebook</a>'\n",
              "            + ' to learn more about interactive tables.';\n",
              "          element.innerHTML = '';\n",
              "          dataTable['output_type'] = 'display_data';\n",
              "          await google.colab.output.renderOutput(dataTable, element);\n",
              "          const docLink = document.createElement('div');\n",
              "          docLink.innerHTML = docLinkHtml;\n",
              "          element.appendChild(docLink);\n",
              "        }\n",
              "      </script>\n",
              "    </div>\n",
              "  </div>\n",
              "  "
            ],
            "text/plain": [
              "   PAY_0  PAY_2  PAY_3  PAY_4  PAY_5  PAY_6\n",
              "0  22498  24799  25020  25711  26231  26131\n",
              "1   6665   4364   4143   3452   2932   3032"
            ]
          },
          "execution_count": 36,
          "metadata": {},
          "output_type": "execute_result"
        }
      ],
      "source": [
        "df['PAY_0'] = df['PAY_0'].map({-2: 0, -1: 0, 0: 0, 1: 1, 2: 1, 3: 1, 4: 1, 5: 1, 6: 1, 7: 1, 8: 1})\n",
        "df['PAY_2'] = df['PAY_2'].map({-2: 0, -1: 0, 0: 0, 1: 1, 2: 1, 3: 1, 4: 1, 5: 1, 6: 1, 7: 1, 8: 1})\n",
        "df['PAY_3'] = df['PAY_3'].map({-2: 0, -1: 0, 0: 0, 1: 1, 2: 1, 3: 1, 4: 1, 5: 1, 6: 1, 7: 1, 8: 1})\n",
        "df['PAY_4'] = df['PAY_4'].map({-2: 0, -1: 0, 0: 0, 1: 1, 2: 1, 3: 1, 4: 1, 5: 1, 6: 1, 7: 1, 8: 1})\n",
        "df['PAY_5'] = df['PAY_5'].map({-2: 0, -1: 0, 0: 0, 1: 1, 2: 1, 3: 1, 4: 1, 5: 1, 6: 1, 7: 1, 8: 1})\n",
        "df['PAY_6'] = df['PAY_6'].map({-2: 0, -1: 0, 0: 0, 1: 1, 2: 1, 3: 1, 4: 1, 5: 1, 6: 1, 7: 1, 8: 1})\n",
        "df[['PAY_0', 'PAY_2', 'PAY_3', 'PAY_4', 'PAY_5', 'PAY_6']].apply(pd.Series.value_counts)"
      ]
    },
    {
      "attachments": {},
      "cell_type": "markdown",
      "metadata": {
        "id": "S_8MTPYrrFQ2"
      },
      "source": [
        "**Стоит принять во внимание очень плохой баланс записей по классам в стоблцах PAY**"
      ]
    },
    {
      "cell_type": "code",
      "execution_count": 37,
      "metadata": {
        "colab": {
          "base_uri": "https://localhost:8080/",
          "height": 270
        },
        "id": "139PQ_pSs1Jf",
        "outputId": "79812066-93cc-4f4a-db23-b9c97c6fbeb3"
      },
      "outputs": [
        {
          "data": {
            "text/html": [
              "\n",
              "  <div id=\"df-61b7f397-2e11-4899-9c15-0a523432f944\">\n",
              "    <div class=\"colab-df-container\">\n",
              "      <div>\n",
              "<style scoped>\n",
              "    .dataframe tbody tr th:only-of-type {\n",
              "        vertical-align: middle;\n",
              "    }\n",
              "\n",
              "    .dataframe tbody tr th {\n",
              "        vertical-align: top;\n",
              "    }\n",
              "\n",
              "    .dataframe thead th {\n",
              "        text-align: right;\n",
              "    }\n",
              "</style>\n",
              "<table border=\"1\" class=\"dataframe\">\n",
              "  <thead>\n",
              "    <tr style=\"text-align: right;\">\n",
              "      <th></th>\n",
              "      <th>ID</th>\n",
              "      <th>LIMIT_BAL</th>\n",
              "      <th>SEX</th>\n",
              "      <th>EDUCATION</th>\n",
              "      <th>MARRIAGE</th>\n",
              "      <th>AGE</th>\n",
              "      <th>PAY_0</th>\n",
              "      <th>PAY_2</th>\n",
              "      <th>PAY_3</th>\n",
              "      <th>PAY_4</th>\n",
              "      <th>PAY_5</th>\n",
              "      <th>PAY_6</th>\n",
              "      <th>BILL_AMT1</th>\n",
              "      <th>BILL_AMT2</th>\n",
              "      <th>BILL_AMT3</th>\n",
              "      <th>BILL_AMT4</th>\n",
              "      <th>BILL_AMT5</th>\n",
              "      <th>BILL_AMT6</th>\n",
              "      <th>PAY_AMT1</th>\n",
              "      <th>PAY_AMT2</th>\n",
              "      <th>PAY_AMT3</th>\n",
              "      <th>PAY_AMT4</th>\n",
              "      <th>PAY_AMT5</th>\n",
              "      <th>PAY_AMT6</th>\n",
              "      <th>default.payment.next.month</th>\n",
              "    </tr>\n",
              "  </thead>\n",
              "  <tbody>\n",
              "    <tr>\n",
              "      <th>0</th>\n",
              "      <td>1</td>\n",
              "      <td>20000.0</td>\n",
              "      <td>2</td>\n",
              "      <td>2</td>\n",
              "      <td>1</td>\n",
              "      <td>0</td>\n",
              "      <td>1</td>\n",
              "      <td>1</td>\n",
              "      <td>0</td>\n",
              "      <td>0</td>\n",
              "      <td>0</td>\n",
              "      <td>0</td>\n",
              "      <td>3913.0</td>\n",
              "      <td>3102.0</td>\n",
              "      <td>689.0</td>\n",
              "      <td>0.0</td>\n",
              "      <td>0.0</td>\n",
              "      <td>0.0</td>\n",
              "      <td>0.0</td>\n",
              "      <td>689.0</td>\n",
              "      <td>0.0</td>\n",
              "      <td>0.0</td>\n",
              "      <td>0.0</td>\n",
              "      <td>0.0</td>\n",
              "      <td>1</td>\n",
              "    </tr>\n",
              "    <tr>\n",
              "      <th>1</th>\n",
              "      <td>2</td>\n",
              "      <td>120000.0</td>\n",
              "      <td>2</td>\n",
              "      <td>2</td>\n",
              "      <td>2</td>\n",
              "      <td>1</td>\n",
              "      <td>0</td>\n",
              "      <td>1</td>\n",
              "      <td>0</td>\n",
              "      <td>0</td>\n",
              "      <td>0</td>\n",
              "      <td>1</td>\n",
              "      <td>2682.0</td>\n",
              "      <td>1725.0</td>\n",
              "      <td>2682.0</td>\n",
              "      <td>3272.0</td>\n",
              "      <td>3455.0</td>\n",
              "      <td>3261.0</td>\n",
              "      <td>0.0</td>\n",
              "      <td>1000.0</td>\n",
              "      <td>1000.0</td>\n",
              "      <td>1000.0</td>\n",
              "      <td>0.0</td>\n",
              "      <td>2000.0</td>\n",
              "      <td>1</td>\n",
              "    </tr>\n",
              "    <tr>\n",
              "      <th>2</th>\n",
              "      <td>3</td>\n",
              "      <td>90000.0</td>\n",
              "      <td>2</td>\n",
              "      <td>2</td>\n",
              "      <td>2</td>\n",
              "      <td>2</td>\n",
              "      <td>0</td>\n",
              "      <td>0</td>\n",
              "      <td>0</td>\n",
              "      <td>0</td>\n",
              "      <td>0</td>\n",
              "      <td>0</td>\n",
              "      <td>29239.0</td>\n",
              "      <td>14027.0</td>\n",
              "      <td>13559.0</td>\n",
              "      <td>14331.0</td>\n",
              "      <td>14948.0</td>\n",
              "      <td>15549.0</td>\n",
              "      <td>1518.0</td>\n",
              "      <td>1500.0</td>\n",
              "      <td>1000.0</td>\n",
              "      <td>1000.0</td>\n",
              "      <td>1000.0</td>\n",
              "      <td>5000.0</td>\n",
              "      <td>0</td>\n",
              "    </tr>\n",
              "    <tr>\n",
              "      <th>3</th>\n",
              "      <td>4</td>\n",
              "      <td>50000.0</td>\n",
              "      <td>2</td>\n",
              "      <td>2</td>\n",
              "      <td>1</td>\n",
              "      <td>2</td>\n",
              "      <td>0</td>\n",
              "      <td>0</td>\n",
              "      <td>0</td>\n",
              "      <td>0</td>\n",
              "      <td>0</td>\n",
              "      <td>0</td>\n",
              "      <td>46990.0</td>\n",
              "      <td>48233.0</td>\n",
              "      <td>49291.0</td>\n",
              "      <td>28314.0</td>\n",
              "      <td>28959.0</td>\n",
              "      <td>29547.0</td>\n",
              "      <td>2000.0</td>\n",
              "      <td>2019.0</td>\n",
              "      <td>1200.0</td>\n",
              "      <td>1100.0</td>\n",
              "      <td>1069.0</td>\n",
              "      <td>1000.0</td>\n",
              "      <td>0</td>\n",
              "    </tr>\n",
              "    <tr>\n",
              "      <th>4</th>\n",
              "      <td>5</td>\n",
              "      <td>50000.0</td>\n",
              "      <td>1</td>\n",
              "      <td>2</td>\n",
              "      <td>1</td>\n",
              "      <td>4</td>\n",
              "      <td>0</td>\n",
              "      <td>0</td>\n",
              "      <td>0</td>\n",
              "      <td>0</td>\n",
              "      <td>0</td>\n",
              "      <td>0</td>\n",
              "      <td>8617.0</td>\n",
              "      <td>5670.0</td>\n",
              "      <td>35835.0</td>\n",
              "      <td>20940.0</td>\n",
              "      <td>19146.0</td>\n",
              "      <td>19131.0</td>\n",
              "      <td>2000.0</td>\n",
              "      <td>36681.0</td>\n",
              "      <td>10000.0</td>\n",
              "      <td>9000.0</td>\n",
              "      <td>689.0</td>\n",
              "      <td>679.0</td>\n",
              "      <td>0</td>\n",
              "    </tr>\n",
              "  </tbody>\n",
              "</table>\n",
              "</div>\n",
              "      <button class=\"colab-df-convert\" onclick=\"convertToInteractive('df-61b7f397-2e11-4899-9c15-0a523432f944')\"\n",
              "              title=\"Convert this dataframe to an interactive table.\"\n",
              "              style=\"display:none;\">\n",
              "        \n",
              "  <svg xmlns=\"http://www.w3.org/2000/svg\" height=\"24px\"viewBox=\"0 0 24 24\"\n",
              "       width=\"24px\">\n",
              "    <path d=\"M0 0h24v24H0V0z\" fill=\"none\"/>\n",
              "    <path d=\"M18.56 5.44l.94 2.06.94-2.06 2.06-.94-2.06-.94-.94-2.06-.94 2.06-2.06.94zm-11 1L8.5 8.5l.94-2.06 2.06-.94-2.06-.94L8.5 2.5l-.94 2.06-2.06.94zm10 10l.94 2.06.94-2.06 2.06-.94-2.06-.94-.94-2.06-.94 2.06-2.06.94z\"/><path d=\"M17.41 7.96l-1.37-1.37c-.4-.4-.92-.59-1.43-.59-.52 0-1.04.2-1.43.59L10.3 9.45l-7.72 7.72c-.78.78-.78 2.05 0 2.83L4 21.41c.39.39.9.59 1.41.59.51 0 1.02-.2 1.41-.59l7.78-7.78 2.81-2.81c.8-.78.8-2.07 0-2.86zM5.41 20L4 18.59l7.72-7.72 1.47 1.35L5.41 20z\"/>\n",
              "  </svg>\n",
              "      </button>\n",
              "      \n",
              "  <style>\n",
              "    .colab-df-container {\n",
              "      display:flex;\n",
              "      flex-wrap:wrap;\n",
              "      gap: 12px;\n",
              "    }\n",
              "\n",
              "    .colab-df-convert {\n",
              "      background-color: #E8F0FE;\n",
              "      border: none;\n",
              "      border-radius: 50%;\n",
              "      cursor: pointer;\n",
              "      display: none;\n",
              "      fill: #1967D2;\n",
              "      height: 32px;\n",
              "      padding: 0 0 0 0;\n",
              "      width: 32px;\n",
              "    }\n",
              "\n",
              "    .colab-df-convert:hover {\n",
              "      background-color: #E2EBFA;\n",
              "      box-shadow: 0px 1px 2px rgba(60, 64, 67, 0.3), 0px 1px 3px 1px rgba(60, 64, 67, 0.15);\n",
              "      fill: #174EA6;\n",
              "    }\n",
              "\n",
              "    [theme=dark] .colab-df-convert {\n",
              "      background-color: #3B4455;\n",
              "      fill: #D2E3FC;\n",
              "    }\n",
              "\n",
              "    [theme=dark] .colab-df-convert:hover {\n",
              "      background-color: #434B5C;\n",
              "      box-shadow: 0px 1px 3px 1px rgba(0, 0, 0, 0.15);\n",
              "      filter: drop-shadow(0px 1px 2px rgba(0, 0, 0, 0.3));\n",
              "      fill: #FFFFFF;\n",
              "    }\n",
              "  </style>\n",
              "\n",
              "      <script>\n",
              "        const buttonEl =\n",
              "          document.querySelector('#df-61b7f397-2e11-4899-9c15-0a523432f944 button.colab-df-convert');\n",
              "        buttonEl.style.display =\n",
              "          google.colab.kernel.accessAllowed ? 'block' : 'none';\n",
              "\n",
              "        async function convertToInteractive(key) {\n",
              "          const element = document.querySelector('#df-61b7f397-2e11-4899-9c15-0a523432f944');\n",
              "          const dataTable =\n",
              "            await google.colab.kernel.invokeFunction('convertToInteractive',\n",
              "                                                     [key], {});\n",
              "          if (!dataTable) return;\n",
              "\n",
              "          const docLinkHtml = 'Like what you see? Visit the ' +\n",
              "            '<a target=\"_blank\" href=https://colab.research.google.com/notebooks/data_table.ipynb>data table notebook</a>'\n",
              "            + ' to learn more about interactive tables.';\n",
              "          element.innerHTML = '';\n",
              "          dataTable['output_type'] = 'display_data';\n",
              "          await google.colab.output.renderOutput(dataTable, element);\n",
              "          const docLink = document.createElement('div');\n",
              "          docLink.innerHTML = docLinkHtml;\n",
              "          element.appendChild(docLink);\n",
              "        }\n",
              "      </script>\n",
              "    </div>\n",
              "  </div>\n",
              "  "
            ],
            "text/plain": [
              "   ID  LIMIT_BAL  SEX  EDUCATION  MARRIAGE  AGE  PAY_0  PAY_2  PAY_3  PAY_4  \\\n",
              "0   1    20000.0    2          2         1    0      1      1      0      0   \n",
              "1   2   120000.0    2          2         2    1      0      1      0      0   \n",
              "2   3    90000.0    2          2         2    2      0      0      0      0   \n",
              "3   4    50000.0    2          2         1    2      0      0      0      0   \n",
              "4   5    50000.0    1          2         1    4      0      0      0      0   \n",
              "\n",
              "   PAY_5  PAY_6  BILL_AMT1  BILL_AMT2  BILL_AMT3  BILL_AMT4  BILL_AMT5  \\\n",
              "0      0      0     3913.0     3102.0      689.0        0.0        0.0   \n",
              "1      0      1     2682.0     1725.0     2682.0     3272.0     3455.0   \n",
              "2      0      0    29239.0    14027.0    13559.0    14331.0    14948.0   \n",
              "3      0      0    46990.0    48233.0    49291.0    28314.0    28959.0   \n",
              "4      0      0     8617.0     5670.0    35835.0    20940.0    19146.0   \n",
              "\n",
              "   BILL_AMT6  PAY_AMT1  PAY_AMT2  PAY_AMT3  PAY_AMT4  PAY_AMT5  PAY_AMT6  \\\n",
              "0        0.0       0.0     689.0       0.0       0.0       0.0       0.0   \n",
              "1     3261.0       0.0    1000.0    1000.0    1000.0       0.0    2000.0   \n",
              "2    15549.0    1518.0    1500.0    1000.0    1000.0    1000.0    5000.0   \n",
              "3    29547.0    2000.0    2019.0    1200.0    1100.0    1069.0    1000.0   \n",
              "4    19131.0    2000.0   36681.0   10000.0    9000.0     689.0     679.0   \n",
              "\n",
              "   default.payment.next.month  \n",
              "0                           1  \n",
              "1                           1  \n",
              "2                           0  \n",
              "3                           0  \n",
              "4                           0  "
            ]
          },
          "execution_count": 37,
          "metadata": {},
          "output_type": "execute_result"
        }
      ],
      "source": [
        "df.head()"
      ]
    },
    {
      "attachments": {},
      "cell_type": "markdown",
      "metadata": {
        "id": "iZcFXLQYteRw"
      },
      "source": [
        "#Разделим наши данные на обучающую и тестовую выборку"
      ]
    },
    {
      "cell_type": "code",
      "execution_count": 38,
      "metadata": {
        "id": "5Xo_fUIFt0iO"
      },
      "outputs": [],
      "source": [
        "y = df['default.payment.next.month']\n",
        "X = df.drop(['ID', 'default.payment.next.month'], axis = 1)"
      ]
    },
    {
      "cell_type": "code",
      "execution_count": 39,
      "metadata": {
        "id": "w_09fhrutnXg"
      },
      "outputs": [],
      "source": [
        "from sklearn.model_selection import train_test_split\n",
        "\n",
        "X_train, X_test, y_train, y_test = train_test_split(X, y, test_size=0.33, stratify = y, shuffle = True, random_state=42)"
      ]
    },
    {
      "attachments": {},
      "cell_type": "markdown",
      "metadata": {
        "id": "l-V7TTzx0iJQ"
      },
      "source": [
        "#Построение моделей"
      ]
    },
    {
      "attachments": {},
      "cell_type": "markdown",
      "metadata": {
        "id": "zTTEv1OyuOQk"
      },
      "source": [
        "##Логистическая регрессия"
      ]
    },
    {
      "attachments": {},
      "cell_type": "markdown",
      "metadata": {
        "id": "-Zj-IsLPws3r"
      },
      "source": [
        "###Baseline"
      ]
    },
    {
      "cell_type": "code",
      "execution_count": 40,
      "metadata": {
        "id": "cNDGi0YyuRhg"
      },
      "outputs": [],
      "source": [
        "from sklearn.linear_model import LogisticRegression\n",
        "\n",
        "LR = LogisticRegression(class_weight='balanced')\n",
        "LR.fit(X_train, y_train)\n",
        "LR_preds = LR.predict(X_test)"
      ]
    },
    {
      "cell_type": "code",
      "execution_count": 41,
      "metadata": {
        "colab": {
          "base_uri": "https://localhost:8080/"
        },
        "id": "MKiJtgQTxvdB",
        "outputId": "b0a6e73b-d1c3-4d93-da09-b100a1c0f023"
      },
      "outputs": [
        {
          "name": "stdout",
          "output_type": "stream",
          "text": [
            "              precision    recall  f1-score   support\n",
            "\n",
            "           0       0.81      0.79      0.80      7474\n",
            "           1       0.32      0.35      0.34      2150\n",
            "\n",
            "    accuracy                           0.69      9624\n",
            "   macro avg       0.57      0.57      0.57      9624\n",
            "weighted avg       0.70      0.69      0.70      9624\n",
            "\n"
          ]
        }
      ],
      "source": [
        "from sklearn.metrics import classification_report\n",
        "print(classification_report(y_test, LR_preds))"
      ]
    },
    {
      "attachments": {},
      "cell_type": "markdown",
      "metadata": {
        "id": "dFoh2esv0Vcv"
      },
      "source": [
        "###GridSearch"
      ]
    },
    {
      "cell_type": "code",
      "execution_count": 45,
      "metadata": {
        "colab": {
          "base_uri": "https://localhost:8080/"
        },
        "id": "hNnvf9xa0YeP",
        "outputId": "7d455a96-dc27-4dff-a332-4bd1bbe2a8c0"
      },
      "outputs": [
        {
          "name": "stdout",
          "output_type": "stream",
          "text": [
            "Best Hyperparameters: {'C': 0.9, 'fit_intercept': False, 'solver': 'liblinear'}\n",
            "Best f1_macro: 0.6321867354949825\n"
          ]
        }
      ],
      "source": [
        "from sklearn.model_selection import GridSearchCV\n",
        "from sklearn.model_selection import StratifiedShuffleSplit\n",
        "\n",
        "skf = StratifiedShuffleSplit(n_splits=5, random_state=10)\n",
        "\n",
        "params = {\n",
        "    'C': np.linspace(0.1, 1.0, 10),\n",
        "    'fit_intercept': [True, False],\n",
        "    'solver': ['lbfgs', 'liblinear']\n",
        "}\n",
        "\n",
        "grid_search = GridSearchCV(LR, params, cv=skf, scoring='f1_macro', refit = True, n_jobs = -1)\n",
        "\n",
        "grid_search.fit(X_train, y_train)\n",
        "\n",
        "print(\"Best Hyperparameters:\", grid_search.best_params_)\n",
        "print(\"Best f1_macro:\", grid_search.best_score_)"
      ]
    },
    {
      "cell_type": "code",
      "execution_count": 48,
      "metadata": {
        "colab": {
          "base_uri": "https://localhost:8080/"
        },
        "id": "_iOHw3ihbwZH",
        "outputId": "f7d874b9-465c-441a-f3b4-2a0a4610540d"
      },
      "outputs": [
        {
          "name": "stdout",
          "output_type": "stream",
          "text": [
            "              precision    recall  f1-score   support\n",
            "\n",
            "           0       0.86      0.58      0.69      7474\n",
            "           1       0.32      0.68      0.43      2150\n",
            "\n",
            "    accuracy                           0.60      9624\n",
            "   macro avg       0.59      0.63      0.56      9624\n",
            "weighted avg       0.74      0.60      0.63      9624\n",
            "\n"
          ]
        }
      ],
      "source": [
        "LR = LogisticRegression(C = 0.9, fit_intercept = False, solver = 'liblinear', class_weight='balanced')\n",
        "LR.fit(X_train, y_train)\n",
        "LR_preds = LR.predict(X_test)\n",
        "\n",
        "from sklearn.metrics import classification_report\n",
        "print(classification_report(y_test, LR_preds))"
      ]
    },
    {
      "attachments": {},
      "cell_type": "markdown",
      "metadata": {
        "id": "gDl-y60k2WhQ"
      },
      "source": [
        "##Дерево решений"
      ]
    },
    {
      "attachments": {},
      "cell_type": "markdown",
      "metadata": {
        "id": "4WUS3pYC2iIT"
      },
      "source": [
        "###Baseline"
      ]
    },
    {
      "cell_type": "code",
      "execution_count": 49,
      "metadata": {
        "id": "oFRFomJ52bxS"
      },
      "outputs": [],
      "source": [
        "from sklearn.tree import DecisionTreeClassifier\n",
        "\n",
        "tree = DecisionTreeClassifier(class_weight='balanced')\n",
        "tree.fit(X_train, y_train)\n",
        "tree_preds = tree.predict(X_test)"
      ]
    },
    {
      "cell_type": "code",
      "execution_count": 50,
      "metadata": {
        "colab": {
          "base_uri": "https://localhost:8080/"
        },
        "id": "GWZNRHRp4PxK",
        "outputId": "8c50827b-d4bc-4f5c-e2e8-89ae320148e9"
      },
      "outputs": [
        {
          "name": "stdout",
          "output_type": "stream",
          "text": [
            "              precision    recall  f1-score   support\n",
            "\n",
            "           0       0.82      0.83      0.83      7474\n",
            "           1       0.38      0.37      0.38      2150\n",
            "\n",
            "    accuracy                           0.73      9624\n",
            "   macro avg       0.60      0.60      0.60      9624\n",
            "weighted avg       0.72      0.73      0.73      9624\n",
            "\n"
          ]
        }
      ],
      "source": [
        "from sklearn.metrics import classification_report\n",
        "print(classification_report(y_test, tree_preds))"
      ]
    },
    {
      "attachments": {},
      "cell_type": "markdown",
      "metadata": {
        "id": "UNm-VHBO4cnV"
      },
      "source": [
        "###GridSearch"
      ]
    },
    {
      "cell_type": "code",
      "execution_count": 60,
      "metadata": {
        "colab": {
          "base_uri": "https://localhost:8080/"
        },
        "id": "yijPUxo14fg4",
        "outputId": "c1aa7258-1e76-4d35-86ba-2b774aba20e0"
      },
      "outputs": [
        {
          "name": "stdout",
          "output_type": "stream",
          "text": [
            "Best Hyperparameters: {'criterion': 'gini', 'max_depth': 20}\n",
            "Best f1_macro: 0.6291746623814792\n"
          ]
        }
      ],
      "source": [
        "from sklearn.model_selection import GridSearchCV\n",
        "from sklearn.model_selection import StratifiedShuffleSplit\n",
        "\n",
        "skf = StratifiedShuffleSplit(n_splits=5, random_state=10)\n",
        "\n",
        "params = {\n",
        "    'criterion': ['gini', 'entropy'],\n",
        "    'max_depth': [20, 30, 40, 50, 100],\n",
        "}\n",
        "\n",
        "grid_search = GridSearchCV(tree, params, cv=skf, scoring='f1_macro', refit = True, n_jobs = -1)\n",
        "\n",
        "grid_search.fit(X_train, y_train)\n",
        "\n",
        "print(\"Best Hyperparameters:\", grid_search.best_params_)\n",
        "print(\"Best f1_macro:\", grid_search.best_score_)"
      ]
    },
    {
      "cell_type": "code",
      "execution_count": 61,
      "metadata": {
        "colab": {
          "base_uri": "https://localhost:8080/"
        },
        "id": "aIdH3JANc6z6",
        "outputId": "f71525b9-3050-463f-9379-68c2e2c706a9"
      },
      "outputs": [
        {
          "name": "stdout",
          "output_type": "stream",
          "text": [
            "              precision    recall  f1-score   support\n",
            "\n",
            "           0       0.84      0.79      0.82      7474\n",
            "           1       0.40      0.49      0.44      2150\n",
            "\n",
            "    accuracy                           0.73      9624\n",
            "   macro avg       0.62      0.64      0.63      9624\n",
            "weighted avg       0.75      0.73      0.73      9624\n",
            "\n"
          ]
        }
      ],
      "source": [
        "from sklearn.tree import DecisionTreeClassifier\n",
        "\n",
        "tree = DecisionTreeClassifier(class_weight='balanced', max_depth = 20)\n",
        "tree.fit(X_train, y_train)\n",
        "tree_preds = tree.predict(X_test)\n",
        "\n",
        "from sklearn.metrics import classification_report\n",
        "print(classification_report(y_test, tree_preds))"
      ]
    }
  ],
  "metadata": {
    "colab": {
      "provenance": []
    },
    "kernelspec": {
      "display_name": "Python 3",
      "name": "python3"
    },
    "language_info": {
      "codemirror_mode": {
        "name": "ipython",
        "version": 3
      },
      "file_extension": ".py",
      "mimetype": "text/x-python",
      "name": "python",
      "nbconvert_exporter": "python",
      "pygments_lexer": "ipython3",
      "version": "3.11.4"
    }
  },
  "nbformat": 4,
  "nbformat_minor": 0
}
